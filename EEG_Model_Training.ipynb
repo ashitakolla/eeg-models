{
 "cells": [
  {
   "cell_type": "code",
   "execution_count": 8,
   "metadata": {},
   "outputs": [
    {
     "name": "stderr",
     "output_type": "stream",
     "text": [
      "C:\\Users\\Admin\\AppData\\Local\\Temp\\ipykernel_6612\\2416786034.py:4: FutureWarning: The 'delim_whitespace' keyword in pd.read_csv is deprecated and will be removed in a future version. Use ``sep='\\s+'`` instead\n",
      "  df = pd.read_csv(r'C:\\Users\\Admin\\Desktop\\Research\\EGG\\STEW Dataset\\sub06_hi.txt', delim_whitespace=True, header=None)\n"
     ]
    },
    {
     "name": "stdout",
     "output_type": "stream",
     "text": [
      "        0        1        2        3        4        5        6        7   \\\n",
      "0  4438.97  3995.38  4550.26  3986.67  4703.08  4321.54  4298.97  3974.87   \n",
      "1  4429.74  3975.38  4545.13  3971.28  4693.33  4314.36  4293.85  3971.79   \n",
      "2  4424.10  3971.79  4538.97  3930.26  4694.36  4315.90  4293.85  3973.33   \n",
      "3  4429.23  3992.31  4536.41  3929.74  4704.62  4318.97  4301.54  3975.38   \n",
      "4  4440.51  3995.38  4545.64  3957.95  4706.15  4317.44  4310.26  3984.10   \n",
      "\n",
      "        8        9        10       11       12       13  \n",
      "0  3663.08  4151.79  4220.51  4231.79  4228.72  4304.10  \n",
      "1  3663.59  4154.87  4212.31  4234.87  4222.05  4297.95  \n",
      "2  3664.62  4167.69  4204.10  4234.36  4226.15  4292.82  \n",
      "3  3665.13  4180.00  4211.28  4229.23  4235.38  4297.95  \n",
      "4  3672.82  4194.87  4218.46  4236.92  4235.38  4308.21  \n",
      "(19200, 14)\n",
      "                 0             1            2             3             4   \\\n",
      "count  19200.000000  19200.000000  19200.00000  19200.000000  19200.000000   \n",
      "mean    4454.850003   3981.072267   4539.91159   3969.668780   4703.640127   \n",
      "std       68.209577     44.049147     22.75951     46.775786     18.132225   \n",
      "min     3897.950000   3781.030000   4476.41000   3685.640000   4625.640000   \n",
      "25%     4422.560000   3958.970000   4524.10000   3943.080000   4691.790000   \n",
      "50%     4455.900000   3976.410000   4537.95000   3970.770000   4704.100000   \n",
      "75%     4487.690000   3996.920000   4552.31000   3996.920000   4716.410000   \n",
      "max     5156.920000   4275.380000   4658.97000   4199.490000   4771.280000   \n",
      "\n",
      "                 5             6             7             8             9   \\\n",
      "count  19200.000000  19200.000000  19200.000000  19200.000000  19200.000000   \n",
      "mean    4329.282210   4300.402602   3972.156232   3637.171291   4182.954969   \n",
      "std       19.981102     26.139241     18.285600     27.191257     28.204831   \n",
      "min     4263.590000   4196.410000   3887.180000   3524.620000   4026.670000   \n",
      "25%     4314.870000   4282.050000   3959.490000   3619.490000   4166.150000   \n",
      "50%     4328.720000   4300.510000   3972.820000   3637.440000   4183.590000   \n",
      "75%     4342.050000   4318.970000   3984.100000   3653.850000   4200.000000   \n",
      "max     4404.100000   4387.690000   4067.180000   3735.380000   4343.080000   \n",
      "\n",
      "                 10            11            12            13  \n",
      "count  19200.000000  19200.000000  19200.000000  19200.000000  \n",
      "mean    4201.944719   4194.075095   4244.892242   4283.394446  \n",
      "std       64.852662     29.296488     72.397455     39.157456  \n",
      "min     4043.080000   4088.210000   3941.540000   4165.640000  \n",
      "25%     4172.820000   4173.850000   4210.770000   4256.920000  \n",
      "50%     4198.460000   4193.850000   4242.560000   4281.030000  \n",
      "75%     4221.030000   4211.790000   4271.280000   4306.670000  \n",
      "max     5275.380000   4369.230000   5023.080000   4508.210000  \n"
     ]
    },
    {
     "data": {
      "image/png": "[encoded data removed]",
      "text/plain": [
       "<Figure size 640x480 with 1 Axes>"
      ]
     },
     "metadata": {},
     "output_type": "display_data"
    }
   ],
   "source": [
    "import pandas as pd\n",
    "\n",
    "# Read the space-separated text file into a pandas DataFrame\n",
    "df = pd.read_csv(r'C:\\Users\\Admin\\Desktop\\Research\\EGG\\STEW Dataset\\sub06_hi.txt', delim_whitespace=True, header=None)\n",
    "\n",
    "# Display the first few rows to inspect the data\n",
    "print(df.head())\n",
    "\n",
    "# Get the shape (rows and columns) of the dataset\n",
    "print(df.shape)\n",
    "\n",
    "# Display summary statistics of the dataset\n",
    "print(df.describe())\n",
    "\n",
    "import matplotlib.pyplot as plt  # Import matplotlib for plotting\n",
    "\n",
    "# Example: Plotting the distribution of the first column\n",
    "df[0].plot(kind='hist', bins=50, alpha=0.7)\n",
    "plt.title('Distribution of Column 0')\n",
    "plt.xlabel('Value')\n",
    "plt.show()\n",
    "\n"
   ]
  },
  {
   "cell_type": "code",
   "execution_count": 2,
   "metadata": {},
   "outputs": [
    {
     "name": "stdout",
     "output_type": "stream",
     "text": [
      "         0         1         2         3         4         5         6   \\\n",
      "0 -0.232818  0.324821  0.454697  0.363471 -0.030892 -0.387487 -0.054808   \n",
      "1 -0.368140 -0.129229  0.229291  0.034446 -0.568623 -0.746836 -0.250687   \n",
      "2 -0.450828 -0.210731 -0.041372 -0.842526 -0.511816 -0.669761 -0.250687   \n",
      "3 -0.375617  0.255125 -0.153856 -0.853643  0.054042 -0.516112  0.043514   \n",
      "4 -0.210240  0.324821  0.251700 -0.250537  0.138424 -0.592686  0.377121   \n",
      "\n",
      "         7         8         9         10        11        12        13  \n",
      "0  0.148414  0.952857 -1.104980  0.286276  1.287386 -0.223387  0.528791  \n",
      "1 -0.020029  0.971614 -0.995776  0.159832  1.392521 -0.315520  0.371728  \n",
      "2  0.064193  1.009494 -0.541232  0.033234  1.375112 -0.258887  0.240715  \n",
      "3  0.176306  1.028251 -0.104771  0.143950  1.200001 -0.131393  0.371728  \n",
      "4  0.653196  1.311070  0.422457  0.254665  1.462497 -0.131393  0.633754  \n"
     ]
    },
    {
     "name": "stderr",
     "output_type": "stream",
     "text": [
      "C:\\Users\\Admin\\AppData\\Local\\Temp\\ipykernel_6164\\1616808982.py:5: FutureWarning: The 'delim_whitespace' keyword in pd.read_csv is deprecated and will be removed in a future version. Use ``sep='\\s+'`` instead\n",
      "  df = pd.read_csv(r'C:\\Users\\Admin\\Desktop\\Research\\EGG\\STEW Dataset\\sub06_hi.txt', delim_whitespace=True, header=None)\n"
     ]
    }
   ],
   "source": [
    "import pandas as pd\n",
    "from sklearn.preprocessing import StandardScaler\n",
    "\n",
    "# Load your data (adjust the path as needed)\n",
    "df = pd.read_csv(r'C:\\Users\\Admin\\Desktop\\Research\\EGG\\STEW Dataset\\sub06_hi.txt', delim_whitespace=True, header=None)\n",
    "\n",
    "# Initialize the scaler\n",
    "scaler = StandardScaler()\n",
    "\n",
    "# Apply normalization to all columns\n",
    "df_normalized = pd.DataFrame(scaler.fit_transform(df), columns=df.columns)\n",
    "\n",
    "# Show the normalized data\n",
    "print(df_normalized.head())\n",
    "\n"
   ]
  },
  {
   "cell_type": "code",
   "execution_count": 11,
   "metadata": {},
   "outputs": [
    {
     "name": "stdout",
     "output_type": "stream",
     "text": [
      "Files found in the folder: ['ratings.txt', 'sub01_hi.txt', 'sub01_lo.txt', 'sub02_hi.txt', 'sub02_lo.txt', 'sub03_hi.txt', 'sub03_lo.txt', 'sub04_hi.txt', 'sub04_lo.txt', 'sub05_hi.txt', 'sub05_lo.txt', 'sub06_hi.txt', 'sub06_lo.txt', 'sub07_hi.txt', 'sub07_lo.txt', 'sub08_hi.txt', 'sub08_lo.txt', 'sub09_hi.txt', 'sub09_lo.txt', 'sub10_hi.txt', 'sub10_lo.txt', 'sub11_hi.txt', 'sub11_lo.txt', 'sub12_hi.txt', 'sub12_lo.txt', 'sub13_hi.txt', 'sub13_lo.txt', 'sub14_hi.txt', 'sub14_lo.txt', 'sub15_hi.txt', 'sub15_lo.txt', 'sub16_hi.txt', 'sub16_lo.txt', 'sub17_hi.txt', 'sub17_lo.txt', 'sub18_hi.txt', 'sub18_lo.txt', 'sub19_hi.txt', 'sub19_lo.txt', 'sub20_hi.txt', 'sub20_lo.txt', 'sub21_hi.txt', 'sub21_lo.txt', 'sub22_hi.txt', 'sub22_lo.txt', 'sub23_hi.txt', 'sub23_lo.txt', 'sub24_hi.txt', 'sub24_lo.txt', 'sub25_hi.txt', 'sub25_lo.txt', 'sub26_hi.txt', 'sub26_lo.txt', 'sub27_hi.txt', 'sub27_lo.txt', 'sub28_hi.txt', 'sub28_lo.txt', 'sub29_hi.txt', 'sub29_lo.txt', 'sub30_hi.txt', 'sub30_lo.txt', 'sub31_hi.txt', 'sub31_lo.txt', 'sub32_hi.txt', 'sub32_lo.txt', 'sub33_hi.txt', 'sub33_lo.txt', 'sub34_hi.txt', 'sub34_lo.txt', 'sub35_hi.txt', 'sub35_lo.txt', 'sub36_hi.txt', 'sub36_lo.txt', 'sub37_hi.txt', 'sub37_lo.txt', 'sub38_hi.txt', 'sub38_lo.txt', 'sub39_hi.txt', 'sub39_lo.txt', 'sub40_hi.txt', 'sub40_lo.txt', 'sub41_hi.txt', 'sub41_lo.txt', 'sub42_hi.txt', 'sub42_lo.txt', 'sub43_hi.txt', 'sub43_lo.txt', 'sub44_hi.txt', 'sub44_lo.txt', 'sub45_hi.txt', 'sub45_lo.txt', 'sub46_hi.txt', 'sub46_lo.txt', 'sub47_hi.txt', 'sub47_lo.txt', 'sub48_hi.txt', 'sub48_lo.txt']\n",
      "Skipping file ratings.txt due to non-numeric data.\n"
     ]
    },
    {
     "name": "stderr",
     "output_type": "stream",
     "text": [
      "C:\\Users\\Admin\\AppData\\Local\\Temp\\ipykernel_6164\\2045240408.py:32: FutureWarning: The 'delim_whitespace' keyword in pd.read_csv is deprecated and will be removed in a future version. Use ``sep='\\s+'`` instead\n",
      "  df = pd.read_csv(file_path, delim_whitespace=True, header=None)  # Adjust delimiter if needed\n",
      "C:\\Users\\Admin\\AppData\\Local\\Temp\\ipykernel_6164\\2045240408.py:32: FutureWarning: The 'delim_whitespace' keyword in pd.read_csv is deprecated and will be removed in a future version. Use ``sep='\\s+'`` instead\n",
      "  df = pd.read_csv(file_path, delim_whitespace=True, header=None)  # Adjust delimiter if needed\n"
     ]
    },
    {
     "name": "stdout",
     "output_type": "stream",
     "text": [
      "Normalized file saved: C:\\Users\\Admin\\Desktop\\Research\\EGG\\Normalized_Data\\normalized_sub01_hi.csv\n"
     ]
    },
    {
     "name": "stderr",
     "output_type": "stream",
     "text": [
      "C:\\Users\\Admin\\AppData\\Local\\Temp\\ipykernel_6164\\2045240408.py:32: FutureWarning: The 'delim_whitespace' keyword in pd.read_csv is deprecated and will be removed in a future version. Use ``sep='\\s+'`` instead\n",
      "  df = pd.read_csv(file_path, delim_whitespace=True, header=None)  # Adjust delimiter if needed\n"
     ]
    },
    {
     "name": "stdout",
     "output_type": "stream",
     "text": [
      "Normalized file saved: C:\\Users\\Admin\\Desktop\\Research\\EGG\\Normalized_Data\\normalized_sub01_lo.csv\n"
     ]
    },
    {
     "name": "stderr",
     "output_type": "stream",
     "text": [
      "C:\\Users\\Admin\\AppData\\Local\\Temp\\ipykernel_6164\\2045240408.py:32: FutureWarning: The 'delim_whitespace' keyword in pd.read_csv is deprecated and will be removed in a future version. Use ``sep='\\s+'`` instead\n",
      "  df = pd.read_csv(file_path, delim_whitespace=True, header=None)  # Adjust delimiter if needed\n"
     ]
    },
    {
     "name": "stdout",
     "output_type": "stream",
     "text": [
      "Normalized file saved: C:\\Users\\Admin\\Desktop\\Research\\EGG\\Normalized_Data\\normalized_sub02_hi.csv\n"
     ]
    },
    {
     "name": "stderr",
     "output_type": "stream",
     "text": [
      "C:\\Users\\Admin\\AppData\\Local\\Temp\\ipykernel_6164\\2045240408.py:32: FutureWarning: The 'delim_whitespace' keyword in pd.read_csv is deprecated and will be removed in a future version. Use ``sep='\\s+'`` instead\n",
      "  df = pd.read_csv(file_path, delim_whitespace=True, header=None)  # Adjust delimiter if needed\n"
     ]
    },
    {
     "name": "stdout",
     "output_type": "stream",
     "text": [
      "Normalized file saved: C:\\Users\\Admin\\Desktop\\Research\\EGG\\Normalized_Data\\normalized_sub02_lo.csv\n"
     ]
    },
    {
     "name": "stderr",
     "output_type": "stream",
     "text": [
      "C:\\Users\\Admin\\AppData\\Local\\Temp\\ipykernel_6164\\2045240408.py:32: FutureWarning: The 'delim_whitespace' keyword in pd.read_csv is deprecated and will be removed in a future version. Use ``sep='\\s+'`` instead\n",
      "  df = pd.read_csv(file_path, delim_whitespace=True, header=None)  # Adjust delimiter if needed\n"
     ]
    },
    {
     "name": "stdout",
     "output_type": "stream",
     "text": [
      "Normalized file saved: C:\\Users\\Admin\\Desktop\\Research\\EGG\\Normalized_Data\\normalized_sub03_hi.csv\n"
     ]
    },
    {
     "name": "stderr",
     "output_type": "stream",
     "text": [
      "C:\\Users\\Admin\\AppData\\Local\\Temp\\ipykernel_6164\\2045240408.py:32: FutureWarning: The 'delim_whitespace' keyword in pd.read_csv is deprecated and will be removed in a future version. Use ``sep='\\s+'`` instead\n",
      "  df = pd.read_csv(file_path, delim_whitespace=True, header=None)  # Adjust delimiter if needed\n"
     ]
    },
    {
     "name": "stdout",
     "output_type": "stream",
     "text": [
      "Normalized file saved: C:\\Users\\Admin\\Desktop\\Research\\EGG\\Normalized_Data\\normalized_sub03_lo.csv\n"
     ]
    },
    {
     "name": "stderr",
     "output_type": "stream",
     "text": [
      "C:\\Users\\Admin\\AppData\\Local\\Temp\\ipykernel_6164\\2045240408.py:32: FutureWarning: The 'delim_whitespace' keyword in pd.read_csv is deprecated and will be removed in a future version. Use ``sep='\\s+'`` instead\n",
      "  df = pd.read_csv(file_path, delim_whitespace=True, header=None)  # Adjust delimiter if needed\n"
     ]
    },
    {
     "name": "stdout",
     "output_type": "stream",
     "text": [
      "Normalized file saved: C:\\Users\\Admin\\Desktop\\Research\\EGG\\Normalized_Data\\normalized_sub04_hi.csv\n"
     ]
    },
    {
     "name": "stderr",
     "output_type": "stream",
     "text": [
      "C:\\Users\\Admin\\AppData\\Local\\Temp\\ipykernel_6164\\2045240408.py:32: FutureWarning: The 'delim_whitespace' keyword in pd.read_csv is deprecated and will be removed in a future version. Use ``sep='\\s+'`` instead\n",
      "  df = pd.read_csv(file_path, delim_whitespace=True, header=None)  # Adjust delimiter if needed\n"
     ]
    },
    {
     "name": "stdout",
     "output_type": "stream",
     "text": [
      "Normalized file saved: C:\\Users\\Admin\\Desktop\\Research\\EGG\\Normalized_Data\\normalized_sub04_lo.csv\n"
     ]
    },
    {
     "name": "stderr",
     "output_type": "stream",
     "text": [
      "C:\\Users\\Admin\\AppData\\Local\\Temp\\ipykernel_6164\\2045240408.py:32: FutureWarning: The 'delim_whitespace' keyword in pd.read_csv is deprecated and will be removed in a future version. Use ``sep='\\s+'`` instead\n",
      "  df = pd.read_csv(file_path, delim_whitespace=True, header=None)  # Adjust delimiter if needed\n"
     ]
    },
    {
     "name": "stdout",
     "output_type": "stream",
     "text": [
      "Normalized file saved: C:\\Users\\Admin\\Desktop\\Research\\EGG\\Normalized_Data\\normalized_sub05_hi.csv\n"
     ]
    },
    {
     "name": "stderr",
     "output_type": "stream",
     "text": [
      "C:\\Users\\Admin\\AppData\\Local\\Temp\\ipykernel_6164\\2045240408.py:32: FutureWarning: The 'delim_whitespace' keyword in pd.read_csv is deprecated and will be removed in a future version. Use ``sep='\\s+'`` instead\n",
      "  df = pd.read_csv(file_path, delim_whitespace=True, header=None)  # Adjust delimiter if needed\n"
     ]
    },
    {
     "name": "stdout",
     "output_type": "stream",
     "text": [
      "Normalized file saved: C:\\Users\\Admin\\Desktop\\Research\\EGG\\Normalized_Data\\normalized_sub05_lo.csv\n"
     ]
    },
    {
     "name": "stderr",
     "output_type": "stream",
     "text": [
      "C:\\Users\\Admin\\AppData\\Local\\Temp\\ipykernel_6164\\2045240408.py:32: FutureWarning: The 'delim_whitespace' keyword in pd.read_csv is deprecated and will be removed in a future version. Use ``sep='\\s+'`` instead\n",
      "  df = pd.read_csv(file_path, delim_whitespace=True, header=None)  # Adjust delimiter if needed\n"
     ]
    },
    {
     "name": "stdout",
     "output_type": "stream",
     "text": [
      "Normalized file saved: C:\\Users\\Admin\\Desktop\\Research\\EGG\\Normalized_Data\\normalized_sub06_hi.csv\n"
     ]
    },
    {
     "name": "stderr",
     "output_type": "stream",
     "text": [
      "C:\\Users\\Admin\\AppData\\Local\\Temp\\ipykernel_6164\\2045240408.py:32: FutureWarning: The 'delim_whitespace' keyword in pd.read_csv is deprecated and will be removed in a future version. Use ``sep='\\s+'`` instead\n",
      "  df = pd.read_csv(file_path, delim_whitespace=True, header=None)  # Adjust delimiter if needed\n"
     ]
    },
    {
     "name": "stdout",
     "output_type": "stream",
     "text": [
      "Normalized file saved: C:\\Users\\Admin\\Desktop\\Research\\EGG\\Normalized_Data\\normalized_sub06_lo.csv\n"
     ]
    },
    {
     "name": "stderr",
     "output_type": "stream",
     "text": [
      "C:\\Users\\Admin\\AppData\\Local\\Temp\\ipykernel_6164\\2045240408.py:32: FutureWarning: The 'delim_whitespace' keyword in pd.read_csv is deprecated and will be removed in a future version. Use ``sep='\\s+'`` instead\n",
      "  df = pd.read_csv(file_path, delim_whitespace=True, header=None)  # Adjust delimiter if needed\n"
     ]
    },
    {
     "name": "stdout",
     "output_type": "stream",
     "text": [
      "Normalized file saved: C:\\Users\\Admin\\Desktop\\Research\\EGG\\Normalized_Data\\normalized_sub07_hi.csv\n"
     ]
    },
    {
     "name": "stderr",
     "output_type": "stream",
     "text": [
      "C:\\Users\\Admin\\AppData\\Local\\Temp\\ipykernel_6164\\2045240408.py:32: FutureWarning: The 'delim_whitespace' keyword in pd.read_csv is deprecated and will be removed in a future version. Use ``sep='\\s+'`` instead\n",
      "  df = pd.read_csv(file_path, delim_whitespace=True, header=None)  # Adjust delimiter if needed\n"
     ]
    },
    {
     "name": "stdout",
     "output_type": "stream",
     "text": [
      "Normalized file saved: C:\\Users\\Admin\\Desktop\\Research\\EGG\\Normalized_Data\\normalized_sub07_lo.csv\n"
     ]
    },
    {
     "name": "stderr",
     "output_type": "stream",
     "text": [
      "C:\\Users\\Admin\\AppData\\Local\\Temp\\ipykernel_6164\\2045240408.py:32: FutureWarning: The 'delim_whitespace' keyword in pd.read_csv is deprecated and will be removed in a future version. Use ``sep='\\s+'`` instead\n",
      "  df = pd.read_csv(file_path, delim_whitespace=True, header=None)  # Adjust delimiter if needed\n"
     ]
    },
    {
     "name": "stdout",
     "output_type": "stream",
     "text": [
      "Normalized file saved: C:\\Users\\Admin\\Desktop\\Research\\EGG\\Normalized_Data\\normalized_sub08_hi.csv\n"
     ]
    },
    {
     "name": "stderr",
     "output_type": "stream",
     "text": [
      "C:\\Users\\Admin\\AppData\\Local\\Temp\\ipykernel_6164\\2045240408.py:32: FutureWarning: The 'delim_whitespace' keyword in pd.read_csv is deprecated and will be removed in a future version. Use ``sep='\\s+'`` instead\n",
      "  df = pd.read_csv(file_path, delim_whitespace=True, header=None)  # Adjust delimiter if needed\n"
     ]
    },
    {
     "name": "stdout",
     "output_type": "stream",
     "text": [
      "Normalized file saved: C:\\Users\\Admin\\Desktop\\Research\\EGG\\Normalized_Data\\normalized_sub08_lo.csv\n"
     ]
    },
    {
     "name": "stderr",
     "output_type": "stream",
     "text": [
      "C:\\Users\\Admin\\AppData\\Local\\Temp\\ipykernel_6164\\2045240408.py:32: FutureWarning: The 'delim_whitespace' keyword in pd.read_csv is deprecated and will be removed in a future version. Use ``sep='\\s+'`` instead\n",
      "  df = pd.read_csv(file_path, delim_whitespace=True, header=None)  # Adjust delimiter if needed\n"
     ]
    },
    {
     "name": "stdout",
     "output_type": "stream",
     "text": [
      "Normalized file saved: C:\\Users\\Admin\\Desktop\\Research\\EGG\\Normalized_Data\\normalized_sub09_hi.csv\n"
     ]
    },
    {
     "name": "stderr",
     "output_type": "stream",
     "text": [
      "C:\\Users\\Admin\\AppData\\Local\\Temp\\ipykernel_6164\\2045240408.py:32: FutureWarning: The 'delim_whitespace' keyword in pd.read_csv is deprecated and will be removed in a future version. Use ``sep='\\s+'`` instead\n",
      "  df = pd.read_csv(file_path, delim_whitespace=True, header=None)  # Adjust delimiter if needed\n"
     ]
    },
    {
     "name": "stdout",
     "output_type": "stream",
     "text": [
      "Normalized file saved: C:\\Users\\Admin\\Desktop\\Research\\EGG\\Normalized_Data\\normalized_sub09_lo.csv\n"
     ]
    },
    {
     "name": "stderr",
     "output_type": "stream",
     "text": [
      "C:\\Users\\Admin\\AppData\\Local\\Temp\\ipykernel_6164\\2045240408.py:32: FutureWarning: The 'delim_whitespace' keyword in pd.read_csv is deprecated and will be removed in a future version. Use ``sep='\\s+'`` instead\n",
      "  df = pd.read_csv(file_path, delim_whitespace=True, header=None)  # Adjust delimiter if needed\n"
     ]
    },
    {
     "name": "stdout",
     "output_type": "stream",
     "text": [
      "Normalized file saved: C:\\Users\\Admin\\Desktop\\Research\\EGG\\Normalized_Data\\normalized_sub10_hi.csv\n"
     ]
    },
    {
     "name": "stderr",
     "output_type": "stream",
     "text": [
      "C:\\Users\\Admin\\AppData\\Local\\Temp\\ipykernel_6164\\2045240408.py:32: FutureWarning: The 'delim_whitespace' keyword in pd.read_csv is deprecated and will be removed in a future version. Use ``sep='\\s+'`` instead\n",
      "  df = pd.read_csv(file_path, delim_whitespace=True, header=None)  # Adjust delimiter if needed\n"
     ]
    },
    {
     "name": "stdout",
     "output_type": "stream",
     "text": [
      "Normalized file saved: C:\\Users\\Admin\\Desktop\\Research\\EGG\\Normalized_Data\\normalized_sub10_lo.csv\n"
     ]
    },
    {
     "name": "stderr",
     "output_type": "stream",
     "text": [
      "C:\\Users\\Admin\\AppData\\Local\\Temp\\ipykernel_6164\\2045240408.py:32: FutureWarning: The 'delim_whitespace' keyword in pd.read_csv is deprecated and will be removed in a future version. Use ``sep='\\s+'`` instead\n",
      "  df = pd.read_csv(file_path, delim_whitespace=True, header=None)  # Adjust delimiter if needed\n"
     ]
    },
    {
     "name": "stdout",
     "output_type": "stream",
     "text": [
      "Normalized file saved: C:\\Users\\Admin\\Desktop\\Research\\EGG\\Normalized_Data\\normalized_sub11_hi.csv\n"
     ]
    },
    {
     "name": "stderr",
     "output_type": "stream",
     "text": [
      "C:\\Users\\Admin\\AppData\\Local\\Temp\\ipykernel_6164\\2045240408.py:32: FutureWarning: The 'delim_whitespace' keyword in pd.read_csv is deprecated and will be removed in a future version. Use ``sep='\\s+'`` instead\n",
      "  df = pd.read_csv(file_path, delim_whitespace=True, header=None)  # Adjust delimiter if needed\n"
     ]
    },
    {
     "name": "stdout",
     "output_type": "stream",
     "text": [
      "Normalized file saved: C:\\Users\\Admin\\Desktop\\Research\\EGG\\Normalized_Data\\normalized_sub11_lo.csv\n"
     ]
    },
    {
     "name": "stderr",
     "output_type": "stream",
     "text": [
      "C:\\Users\\Admin\\AppData\\Local\\Temp\\ipykernel_6164\\2045240408.py:32: FutureWarning: The 'delim_whitespace' keyword in pd.read_csv is deprecated and will be removed in a future version. Use ``sep='\\s+'`` instead\n",
      "  df = pd.read_csv(file_path, delim_whitespace=True, header=None)  # Adjust delimiter if needed\n"
     ]
    },
    {
     "name": "stdout",
     "output_type": "stream",
     "text": [
      "Normalized file saved: C:\\Users\\Admin\\Desktop\\Research\\EGG\\Normalized_Data\\normalized_sub12_hi.csv\n"
     ]
    },
    {
     "name": "stderr",
     "output_type": "stream",
     "text": [
      "C:\\Users\\Admin\\AppData\\Local\\Temp\\ipykernel_6164\\2045240408.py:32: FutureWarning: The 'delim_whitespace' keyword in pd.read_csv is deprecated and will be removed in a future version. Use ``sep='\\s+'`` instead\n",
      "  df = pd.read_csv(file_path, delim_whitespace=True, header=None)  # Adjust delimiter if needed\n"
     ]
    },
    {
     "name": "stdout",
     "output_type": "stream",
     "text": [
      "Normalized file saved: C:\\Users\\Admin\\Desktop\\Research\\EGG\\Normalized_Data\\normalized_sub12_lo.csv\n"
     ]
    },
    {
     "name": "stderr",
     "output_type": "stream",
     "text": [
      "C:\\Users\\Admin\\AppData\\Local\\Temp\\ipykernel_6164\\2045240408.py:32: FutureWarning: The 'delim_whitespace' keyword in pd.read_csv is deprecated and will be removed in a future version. Use ``sep='\\s+'`` instead\n",
      "  df = pd.read_csv(file_path, delim_whitespace=True, header=None)  # Adjust delimiter if needed\n"
     ]
    },
    {
     "name": "stdout",
     "output_type": "stream",
     "text": [
      "Normalized file saved: C:\\Users\\Admin\\Desktop\\Research\\EGG\\Normalized_Data\\normalized_sub13_hi.csv\n"
     ]
    },
    {
     "name": "stderr",
     "output_type": "stream",
     "text": [
      "C:\\Users\\Admin\\AppData\\Local\\Temp\\ipykernel_6164\\2045240408.py:32: FutureWarning: The 'delim_whitespace' keyword in pd.read_csv is deprecated and will be removed in a future version. Use ``sep='\\s+'`` instead\n",
      "  df = pd.read_csv(file_path, delim_whitespace=True, header=None)  # Adjust delimiter if needed\n"
     ]
    },
    {
     "name": "stdout",
     "output_type": "stream",
     "text": [
      "Normalized file saved: C:\\Users\\Admin\\Desktop\\Research\\EGG\\Normalized_Data\\normalized_sub13_lo.csv\n"
     ]
    },
    {
     "name": "stderr",
     "output_type": "stream",
     "text": [
      "C:\\Users\\Admin\\AppData\\Local\\Temp\\ipykernel_6164\\2045240408.py:32: FutureWarning: The 'delim_whitespace' keyword in pd.read_csv is deprecated and will be removed in a future version. Use ``sep='\\s+'`` instead\n",
      "  df = pd.read_csv(file_path, delim_whitespace=True, header=None)  # Adjust delimiter if needed\n"
     ]
    },
    {
     "name": "stdout",
     "output_type": "stream",
     "text": [
      "Normalized file saved: C:\\Users\\Admin\\Desktop\\Research\\EGG\\Normalized_Data\\normalized_sub14_hi.csv\n"
     ]
    },
    {
     "name": "stderr",
     "output_type": "stream",
     "text": [
      "C:\\Users\\Admin\\AppData\\Local\\Temp\\ipykernel_6164\\2045240408.py:32: FutureWarning: The 'delim_whitespace' keyword in pd.read_csv is deprecated and will be removed in a future version. Use ``sep='\\s+'`` instead\n",
      "  df = pd.read_csv(file_path, delim_whitespace=True, header=None)  # Adjust delimiter if needed\n"
     ]
    },
    {
     "name": "stdout",
     "output_type": "stream",
     "text": [
      "Normalized file saved: C:\\Users\\Admin\\Desktop\\Research\\EGG\\Normalized_Data\\normalized_sub14_lo.csv\n"
     ]
    },
    {
     "name": "stderr",
     "output_type": "stream",
     "text": [
      "C:\\Users\\Admin\\AppData\\Local\\Temp\\ipykernel_6164\\2045240408.py:32: FutureWarning: The 'delim_whitespace' keyword in pd.read_csv is deprecated and will be removed in a future version. Use ``sep='\\s+'`` instead\n",
      "  df = pd.read_csv(file_path, delim_whitespace=True, header=None)  # Adjust delimiter if needed\n"
     ]
    },
    {
     "name": "stdout",
     "output_type": "stream",
     "text": [
      "Normalized file saved: C:\\Users\\Admin\\Desktop\\Research\\EGG\\Normalized_Data\\normalized_sub15_hi.csv\n"
     ]
    },
    {
     "name": "stderr",
     "output_type": "stream",
     "text": [
      "C:\\Users\\Admin\\AppData\\Local\\Temp\\ipykernel_6164\\2045240408.py:32: FutureWarning: The 'delim_whitespace' keyword in pd.read_csv is deprecated and will be removed in a future version. Use ``sep='\\s+'`` instead\n",
      "  df = pd.read_csv(file_path, delim_whitespace=True, header=None)  # Adjust delimiter if needed\n"
     ]
    },
    {
     "name": "stdout",
     "output_type": "stream",
     "text": [
      "Normalized file saved: C:\\Users\\Admin\\Desktop\\Research\\EGG\\Normalized_Data\\normalized_sub15_lo.csv\n"
     ]
    },
    {
     "name": "stderr",
     "output_type": "stream",
     "text": [
      "C:\\Users\\Admin\\AppData\\Local\\Temp\\ipykernel_6164\\2045240408.py:32: FutureWarning: The 'delim_whitespace' keyword in pd.read_csv is deprecated and will be removed in a future version. Use ``sep='\\s+'`` instead\n",
      "  df = pd.read_csv(file_path, delim_whitespace=True, header=None)  # Adjust delimiter if needed\n"
     ]
    },
    {
     "name": "stdout",
     "output_type": "stream",
     "text": [
      "Normalized file saved: C:\\Users\\Admin\\Desktop\\Research\\EGG\\Normalized_Data\\normalized_sub16_hi.csv\n"
     ]
    },
    {
     "name": "stderr",
     "output_type": "stream",
     "text": [
      "C:\\Users\\Admin\\AppData\\Local\\Temp\\ipykernel_6164\\2045240408.py:32: FutureWarning: The 'delim_whitespace' keyword in pd.read_csv is deprecated and will be removed in a future version. Use ``sep='\\s+'`` instead\n",
      "  df = pd.read_csv(file_path, delim_whitespace=True, header=None)  # Adjust delimiter if needed\n"
     ]
    },
    {
     "name": "stdout",
     "output_type": "stream",
     "text": [
      "Normalized file saved: C:\\Users\\Admin\\Desktop\\Research\\EGG\\Normalized_Data\\normalized_sub16_lo.csv\n"
     ]
    },
    {
     "name": "stderr",
     "output_type": "stream",
     "text": [
      "C:\\Users\\Admin\\AppData\\Local\\Temp\\ipykernel_6164\\2045240408.py:32: FutureWarning: The 'delim_whitespace' keyword in pd.read_csv is deprecated and will be removed in a future version. Use ``sep='\\s+'`` instead\n",
      "  df = pd.read_csv(file_path, delim_whitespace=True, header=None)  # Adjust delimiter if needed\n"
     ]
    },
    {
     "name": "stdout",
     "output_type": "stream",
     "text": [
      "Normalized file saved: C:\\Users\\Admin\\Desktop\\Research\\EGG\\Normalized_Data\\normalized_sub17_hi.csv\n"
     ]
    },
    {
     "name": "stderr",
     "output_type": "stream",
     "text": [
      "C:\\Users\\Admin\\AppData\\Local\\Temp\\ipykernel_6164\\2045240408.py:32: FutureWarning: The 'delim_whitespace' keyword in pd.read_csv is deprecated and will be removed in a future version. Use ``sep='\\s+'`` instead\n",
      "  df = pd.read_csv(file_path, delim_whitespace=True, header=None)  # Adjust delimiter if needed\n"
     ]
    },
    {
     "name": "stdout",
     "output_type": "stream",
     "text": [
      "Normalized file saved: C:\\Users\\Admin\\Desktop\\Research\\EGG\\Normalized_Data\\normalized_sub17_lo.csv\n"
     ]
    },
    {
     "name": "stderr",
     "output_type": "stream",
     "text": [
      "C:\\Users\\Admin\\AppData\\Local\\Temp\\ipykernel_6164\\2045240408.py:32: FutureWarning: The 'delim_whitespace' keyword in pd.read_csv is deprecated and will be removed in a future version. Use ``sep='\\s+'`` instead\n",
      "  df = pd.read_csv(file_path, delim_whitespace=True, header=None)  # Adjust delimiter if needed\n"
     ]
    },
    {
     "name": "stdout",
     "output_type": "stream",
     "text": [
      "Normalized file saved: C:\\Users\\Admin\\Desktop\\Research\\EGG\\Normalized_Data\\normalized_sub18_hi.csv\n"
     ]
    },
    {
     "name": "stderr",
     "output_type": "stream",
     "text": [
      "C:\\Users\\Admin\\AppData\\Local\\Temp\\ipykernel_6164\\2045240408.py:32: FutureWarning: The 'delim_whitespace' keyword in pd.read_csv is deprecated and will be removed in a future version. Use ``sep='\\s+'`` instead\n",
      "  df = pd.read_csv(file_path, delim_whitespace=True, header=None)  # Adjust delimiter if needed\n"
     ]
    },
    {
     "name": "stdout",
     "output_type": "stream",
     "text": [
      "Normalized file saved: C:\\Users\\Admin\\Desktop\\Research\\EGG\\Normalized_Data\\normalized_sub18_lo.csv\n"
     ]
    },
    {
     "name": "stderr",
     "output_type": "stream",
     "text": [
      "C:\\Users\\Admin\\AppData\\Local\\Temp\\ipykernel_6164\\2045240408.py:32: FutureWarning: The 'delim_whitespace' keyword in pd.read_csv is deprecated and will be removed in a future version. Use ``sep='\\s+'`` instead\n",
      "  df = pd.read_csv(file_path, delim_whitespace=True, header=None)  # Adjust delimiter if needed\n"
     ]
    },
    {
     "name": "stdout",
     "output_type": "stream",
     "text": [
      "Normalized file saved: C:\\Users\\Admin\\Desktop\\Research\\EGG\\Normalized_Data\\normalized_sub19_hi.csv\n"
     ]
    },
    {
     "name": "stderr",
     "output_type": "stream",
     "text": [
      "C:\\Users\\Admin\\AppData\\Local\\Temp\\ipykernel_6164\\2045240408.py:32: FutureWarning: The 'delim_whitespace' keyword in pd.read_csv is deprecated and will be removed in a future version. Use ``sep='\\s+'`` instead\n",
      "  df = pd.read_csv(file_path, delim_whitespace=True, header=None)  # Adjust delimiter if needed\n"
     ]
    },
    {
     "name": "stdout",
     "output_type": "stream",
     "text": [
      "Normalized file saved: C:\\Users\\Admin\\Desktop\\Research\\EGG\\Normalized_Data\\normalized_sub19_lo.csv\n"
     ]
    },
    {
     "name": "stderr",
     "output_type": "stream",
     "text": [
      "C:\\Users\\Admin\\AppData\\Local\\Temp\\ipykernel_6164\\2045240408.py:32: FutureWarning: The 'delim_whitespace' keyword in pd.read_csv is deprecated and will be removed in a future version. Use ``sep='\\s+'`` instead\n",
      "  df = pd.read_csv(file_path, delim_whitespace=True, header=None)  # Adjust delimiter if needed\n"
     ]
    },
    {
     "name": "stdout",
     "output_type": "stream",
     "text": [
      "Normalized file saved: C:\\Users\\Admin\\Desktop\\Research\\EGG\\Normalized_Data\\normalized_sub20_hi.csv\n"
     ]
    },
    {
     "name": "stderr",
     "output_type": "stream",
     "text": [
      "C:\\Users\\Admin\\AppData\\Local\\Temp\\ipykernel_6164\\2045240408.py:32: FutureWarning: The 'delim_whitespace' keyword in pd.read_csv is deprecated and will be removed in a future version. Use ``sep='\\s+'`` instead\n",
      "  df = pd.read_csv(file_path, delim_whitespace=True, header=None)  # Adjust delimiter if needed\n"
     ]
    },
    {
     "name": "stdout",
     "output_type": "stream",
     "text": [
      "Normalized file saved: C:\\Users\\Admin\\Desktop\\Research\\EGG\\Normalized_Data\\normalized_sub20_lo.csv\n"
     ]
    },
    {
     "name": "stderr",
     "output_type": "stream",
     "text": [
      "C:\\Users\\Admin\\AppData\\Local\\Temp\\ipykernel_6164\\2045240408.py:32: FutureWarning: The 'delim_whitespace' keyword in pd.read_csv is deprecated and will be removed in a future version. Use ``sep='\\s+'`` instead\n",
      "  df = pd.read_csv(file_path, delim_whitespace=True, header=None)  # Adjust delimiter if needed\n"
     ]
    },
    {
     "name": "stdout",
     "output_type": "stream",
     "text": [
      "Normalized file saved: C:\\Users\\Admin\\Desktop\\Research\\EGG\\Normalized_Data\\normalized_sub21_hi.csv\n"
     ]
    },
    {
     "name": "stderr",
     "output_type": "stream",
     "text": [
      "C:\\Users\\Admin\\AppData\\Local\\Temp\\ipykernel_6164\\2045240408.py:32: FutureWarning: The 'delim_whitespace' keyword in pd.read_csv is deprecated and will be removed in a future version. Use ``sep='\\s+'`` instead\n",
      "  df = pd.read_csv(file_path, delim_whitespace=True, header=None)  # Adjust delimiter if needed\n"
     ]
    },
    {
     "name": "stdout",
     "output_type": "stream",
     "text": [
      "Normalized file saved: C:\\Users\\Admin\\Desktop\\Research\\EGG\\Normalized_Data\\normalized_sub21_lo.csv\n"
     ]
    },
    {
     "name": "stderr",
     "output_type": "stream",
     "text": [
      "C:\\Users\\Admin\\AppData\\Local\\Temp\\ipykernel_6164\\2045240408.py:32: FutureWarning: The 'delim_whitespace' keyword in pd.read_csv is deprecated and will be removed in a future version. Use ``sep='\\s+'`` instead\n",
      "  df = pd.read_csv(file_path, delim_whitespace=True, header=None)  # Adjust delimiter if needed\n"
     ]
    },
    {
     "name": "stdout",
     "output_type": "stream",
     "text": [
      "Normalized file saved: C:\\Users\\Admin\\Desktop\\Research\\EGG\\Normalized_Data\\normalized_sub22_hi.csv\n"
     ]
    },
    {
     "name": "stderr",
     "output_type": "stream",
     "text": [
      "C:\\Users\\Admin\\AppData\\Local\\Temp\\ipykernel_6164\\2045240408.py:32: FutureWarning: The 'delim_whitespace' keyword in pd.read_csv is deprecated and will be removed in a future version. Use ``sep='\\s+'`` instead\n",
      "  df = pd.read_csv(file_path, delim_whitespace=True, header=None)  # Adjust delimiter if needed\n"
     ]
    },
    {
     "name": "stdout",
     "output_type": "stream",
     "text": [
      "Normalized file saved: C:\\Users\\Admin\\Desktop\\Research\\EGG\\Normalized_Data\\normalized_sub22_lo.csv\n"
     ]
    },
    {
     "name": "stderr",
     "output_type": "stream",
     "text": [
      "C:\\Users\\Admin\\AppData\\Local\\Temp\\ipykernel_6164\\2045240408.py:32: FutureWarning: The 'delim_whitespace' keyword in pd.read_csv is deprecated and will be removed in a future version. Use ``sep='\\s+'`` instead\n",
      "  df = pd.read_csv(file_path, delim_whitespace=True, header=None)  # Adjust delimiter if needed\n"
     ]
    },
    {
     "name": "stdout",
     "output_type": "stream",
     "text": [
      "Normalized file saved: C:\\Users\\Admin\\Desktop\\Research\\EGG\\Normalized_Data\\normalized_sub23_hi.csv\n"
     ]
    },
    {
     "name": "stderr",
     "output_type": "stream",
     "text": [
      "C:\\Users\\Admin\\AppData\\Local\\Temp\\ipykernel_6164\\2045240408.py:32: FutureWarning: The 'delim_whitespace' keyword in pd.read_csv is deprecated and will be removed in a future version. Use ``sep='\\s+'`` instead\n",
      "  df = pd.read_csv(file_path, delim_whitespace=True, header=None)  # Adjust delimiter if needed\n"
     ]
    },
    {
     "name": "stdout",
     "output_type": "stream",
     "text": [
      "Normalized file saved: C:\\Users\\Admin\\Desktop\\Research\\EGG\\Normalized_Data\\normalized_sub23_lo.csv\n"
     ]
    },
    {
     "name": "stderr",
     "output_type": "stream",
     "text": [
      "C:\\Users\\Admin\\AppData\\Local\\Temp\\ipykernel_6164\\2045240408.py:32: FutureWarning: The 'delim_whitespace' keyword in pd.read_csv is deprecated and will be removed in a future version. Use ``sep='\\s+'`` instead\n",
      "  df = pd.read_csv(file_path, delim_whitespace=True, header=None)  # Adjust delimiter if needed\n"
     ]
    },
    {
     "name": "stdout",
     "output_type": "stream",
     "text": [
      "Normalized file saved: C:\\Users\\Admin\\Desktop\\Research\\EGG\\Normalized_Data\\normalized_sub24_hi.csv\n"
     ]
    },
    {
     "name": "stderr",
     "output_type": "stream",
     "text": [
      "C:\\Users\\Admin\\AppData\\Local\\Temp\\ipykernel_6164\\2045240408.py:32: FutureWarning: The 'delim_whitespace' keyword in pd.read_csv is deprecated and will be removed in a future version. Use ``sep='\\s+'`` instead\n",
      "  df = pd.read_csv(file_path, delim_whitespace=True, header=None)  # Adjust delimiter if needed\n"
     ]
    },
    {
     "name": "stdout",
     "output_type": "stream",
     "text": [
      "Normalized file saved: C:\\Users\\Admin\\Desktop\\Research\\EGG\\Normalized_Data\\normalized_sub24_lo.csv\n"
     ]
    },
    {
     "name": "stderr",
     "output_type": "stream",
     "text": [
      "C:\\Users\\Admin\\AppData\\Local\\Temp\\ipykernel_6164\\2045240408.py:32: FutureWarning: The 'delim_whitespace' keyword in pd.read_csv is deprecated and will be removed in a future version. Use ``sep='\\s+'`` instead\n",
      "  df = pd.read_csv(file_path, delim_whitespace=True, header=None)  # Adjust delimiter if needed\n"
     ]
    },
    {
     "name": "stdout",
     "output_type": "stream",
     "text": [
      "Normalized file saved: C:\\Users\\Admin\\Desktop\\Research\\EGG\\Normalized_Data\\normalized_sub25_hi.csv\n"
     ]
    },
    {
     "name": "stderr",
     "output_type": "stream",
     "text": [
      "C:\\Users\\Admin\\AppData\\Local\\Temp\\ipykernel_6164\\2045240408.py:32: FutureWarning: The 'delim_whitespace' keyword in pd.read_csv is deprecated and will be removed in a future version. Use ``sep='\\s+'`` instead\n",
      "  df = pd.read_csv(file_path, delim_whitespace=True, header=None)  # Adjust delimiter if needed\n"
     ]
    },
    {
     "name": "stdout",
     "output_type": "stream",
     "text": [
      "Normalized file saved: C:\\Users\\Admin\\Desktop\\Research\\EGG\\Normalized_Data\\normalized_sub25_lo.csv\n"
     ]
    },
    {
     "name": "stderr",
     "output_type": "stream",
     "text": [
      "C:\\Users\\Admin\\AppData\\Local\\Temp\\ipykernel_6164\\2045240408.py:32: FutureWarning: The 'delim_whitespace' keyword in pd.read_csv is deprecated and will be removed in a future version. Use ``sep='\\s+'`` instead\n",
      "  df = pd.read_csv(file_path, delim_whitespace=True, header=None)  # Adjust delimiter if needed\n"
     ]
    },
    {
     "name": "stdout",
     "output_type": "stream",
     "text": [
      "Normalized file saved: C:\\Users\\Admin\\Desktop\\Research\\EGG\\Normalized_Data\\normalized_sub26_hi.csv\n"
     ]
    },
    {
     "name": "stderr",
     "output_type": "stream",
     "text": [
      "C:\\Users\\Admin\\AppData\\Local\\Temp\\ipykernel_6164\\2045240408.py:32: FutureWarning: The 'delim_whitespace' keyword in pd.read_csv is deprecated and will be removed in a future version. Use ``sep='\\s+'`` instead\n",
      "  df = pd.read_csv(file_path, delim_whitespace=True, header=None)  # Adjust delimiter if needed\n"
     ]
    },
    {
     "name": "stdout",
     "output_type": "stream",
     "text": [
      "Normalized file saved: C:\\Users\\Admin\\Desktop\\Research\\EGG\\Normalized_Data\\normalized_sub26_lo.csv\n"
     ]
    },
    {
     "name": "stderr",
     "output_type": "stream",
     "text": [
      "C:\\Users\\Admin\\AppData\\Local\\Temp\\ipykernel_6164\\2045240408.py:32: FutureWarning: The 'delim_whitespace' keyword in pd.read_csv is deprecated and will be removed in a future version. Use ``sep='\\s+'`` instead\n",
      "  df = pd.read_csv(file_path, delim_whitespace=True, header=None)  # Adjust delimiter if needed\n"
     ]
    },
    {
     "name": "stdout",
     "output_type": "stream",
     "text": [
      "Normalized file saved: C:\\Users\\Admin\\Desktop\\Research\\EGG\\Normalized_Data\\normalized_sub27_hi.csv\n"
     ]
    },
    {
     "name": "stderr",
     "output_type": "stream",
     "text": [
      "C:\\Users\\Admin\\AppData\\Local\\Temp\\ipykernel_6164\\2045240408.py:32: FutureWarning: The 'delim_whitespace' keyword in pd.read_csv is deprecated and will be removed in a future version. Use ``sep='\\s+'`` instead\n",
      "  df = pd.read_csv(file_path, delim_whitespace=True, header=None)  # Adjust delimiter if needed\n"
     ]
    },
    {
     "name": "stdout",
     "output_type": "stream",
     "text": [
      "Normalized file saved: C:\\Users\\Admin\\Desktop\\Research\\EGG\\Normalized_Data\\normalized_sub27_lo.csv\n"
     ]
    },
    {
     "name": "stderr",
     "output_type": "stream",
     "text": [
      "C:\\Users\\Admin\\AppData\\Local\\Temp\\ipykernel_6164\\2045240408.py:32: FutureWarning: The 'delim_whitespace' keyword in pd.read_csv is deprecated and will be removed in a future version. Use ``sep='\\s+'`` instead\n",
      "  df = pd.read_csv(file_path, delim_whitespace=True, header=None)  # Adjust delimiter if needed\n"
     ]
    },
    {
     "name": "stdout",
     "output_type": "stream",
     "text": [
      "Normalized file saved: C:\\Users\\Admin\\Desktop\\Research\\EGG\\Normalized_Data\\normalized_sub28_hi.csv\n"
     ]
    },
    {
     "name": "stderr",
     "output_type": "stream",
     "text": [
      "C:\\Users\\Admin\\AppData\\Local\\Temp\\ipykernel_6164\\2045240408.py:32: FutureWarning: The 'delim_whitespace' keyword in pd.read_csv is deprecated and will be removed in a future version. Use ``sep='\\s+'`` instead\n",
      "  df = pd.read_csv(file_path, delim_whitespace=True, header=None)  # Adjust delimiter if needed\n"
     ]
    },
    {
     "name": "stdout",
     "output_type": "stream",
     "text": [
      "Normalized file saved: C:\\Users\\Admin\\Desktop\\Research\\EGG\\Normalized_Data\\normalized_sub28_lo.csv\n"
     ]
    },
    {
     "name": "stderr",
     "output_type": "stream",
     "text": [
      "C:\\Users\\Admin\\AppData\\Local\\Temp\\ipykernel_6164\\2045240408.py:32: FutureWarning: The 'delim_whitespace' keyword in pd.read_csv is deprecated and will be removed in a future version. Use ``sep='\\s+'`` instead\n",
      "  df = pd.read_csv(file_path, delim_whitespace=True, header=None)  # Adjust delimiter if needed\n"
     ]
    },
    {
     "name": "stdout",
     "output_type": "stream",
     "text": [
      "Normalized file saved: C:\\Users\\Admin\\Desktop\\Research\\EGG\\Normalized_Data\\normalized_sub29_hi.csv\n"
     ]
    },
    {
     "name": "stderr",
     "output_type": "stream",
     "text": [
      "C:\\Users\\Admin\\AppData\\Local\\Temp\\ipykernel_6164\\2045240408.py:32: FutureWarning: The 'delim_whitespace' keyword in pd.read_csv is deprecated and will be removed in a future version. Use ``sep='\\s+'`` instead\n",
      "  df = pd.read_csv(file_path, delim_whitespace=True, header=None)  # Adjust delimiter if needed\n"
     ]
    },
    {
     "name": "stdout",
     "output_type": "stream",
     "text": [
      "Normalized file saved: C:\\Users\\Admin\\Desktop\\Research\\EGG\\Normalized_Data\\normalized_sub29_lo.csv\n"
     ]
    },
    {
     "name": "stderr",
     "output_type": "stream",
     "text": [
      "C:\\Users\\Admin\\AppData\\Local\\Temp\\ipykernel_6164\\2045240408.py:32: FutureWarning: The 'delim_whitespace' keyword in pd.read_csv is deprecated and will be removed in a future version. Use ``sep='\\s+'`` instead\n",
      "  df = pd.read_csv(file_path, delim_whitespace=True, header=None)  # Adjust delimiter if needed\n"
     ]
    },
    {
     "name": "stdout",
     "output_type": "stream",
     "text": [
      "Normalized file saved: C:\\Users\\Admin\\Desktop\\Research\\EGG\\Normalized_Data\\normalized_sub30_hi.csv\n"
     ]
    },
    {
     "name": "stderr",
     "output_type": "stream",
     "text": [
      "C:\\Users\\Admin\\AppData\\Local\\Temp\\ipykernel_6164\\2045240408.py:32: FutureWarning: The 'delim_whitespace' keyword in pd.read_csv is deprecated and will be removed in a future version. Use ``sep='\\s+'`` instead\n",
      "  df = pd.read_csv(file_path, delim_whitespace=True, header=None)  # Adjust delimiter if needed\n"
     ]
    },
    {
     "name": "stdout",
     "output_type": "stream",
     "text": [
      "Normalized file saved: C:\\Users\\Admin\\Desktop\\Research\\EGG\\Normalized_Data\\normalized_sub30_lo.csv\n"
     ]
    },
    {
     "name": "stderr",
     "output_type": "stream",
     "text": [
      "C:\\Users\\Admin\\AppData\\Local\\Temp\\ipykernel_6164\\2045240408.py:32: FutureWarning: The 'delim_whitespace' keyword in pd.read_csv is deprecated and will be removed in a future version. Use ``sep='\\s+'`` instead\n",
      "  df = pd.read_csv(file_path, delim_whitespace=True, header=None)  # Adjust delimiter if needed\n"
     ]
    },
    {
     "name": "stdout",
     "output_type": "stream",
     "text": [
      "Normalized file saved: C:\\Users\\Admin\\Desktop\\Research\\EGG\\Normalized_Data\\normalized_sub31_hi.csv\n"
     ]
    },
    {
     "name": "stderr",
     "output_type": "stream",
     "text": [
      "C:\\Users\\Admin\\AppData\\Local\\Temp\\ipykernel_6164\\2045240408.py:32: FutureWarning: The 'delim_whitespace' keyword in pd.read_csv is deprecated and will be removed in a future version. Use ``sep='\\s+'`` instead\n",
      "  df = pd.read_csv(file_path, delim_whitespace=True, header=None)  # Adjust delimiter if needed\n"
     ]
    },
    {
     "name": "stdout",
     "output_type": "stream",
     "text": [
      "Normalized file saved: C:\\Users\\Admin\\Desktop\\Research\\EGG\\Normalized_Data\\normalized_sub31_lo.csv\n"
     ]
    },
    {
     "name": "stderr",
     "output_type": "stream",
     "text": [
      "C:\\Users\\Admin\\AppData\\Local\\Temp\\ipykernel_6164\\2045240408.py:32: FutureWarning: The 'delim_whitespace' keyword in pd.read_csv is deprecated and will be removed in a future version. Use ``sep='\\s+'`` instead\n",
      "  df = pd.read_csv(file_path, delim_whitespace=True, header=None)  # Adjust delimiter if needed\n"
     ]
    },
    {
     "name": "stdout",
     "output_type": "stream",
     "text": [
      "Normalized file saved: C:\\Users\\Admin\\Desktop\\Research\\EGG\\Normalized_Data\\normalized_sub32_hi.csv\n"
     ]
    },
    {
     "name": "stderr",
     "output_type": "stream",
     "text": [
      "C:\\Users\\Admin\\AppData\\Local\\Temp\\ipykernel_6164\\2045240408.py:32: FutureWarning: The 'delim_whitespace' keyword in pd.read_csv is deprecated and will be removed in a future version. Use ``sep='\\s+'`` instead\n",
      "  df = pd.read_csv(file_path, delim_whitespace=True, header=None)  # Adjust delimiter if needed\n"
     ]
    },
    {
     "name": "stdout",
     "output_type": "stream",
     "text": [
      "Normalized file saved: C:\\Users\\Admin\\Desktop\\Research\\EGG\\Normalized_Data\\normalized_sub32_lo.csv\n"
     ]
    },
    {
     "name": "stderr",
     "output_type": "stream",
     "text": [
      "C:\\Users\\Admin\\AppData\\Local\\Temp\\ipykernel_6164\\2045240408.py:32: FutureWarning: The 'delim_whitespace' keyword in pd.read_csv is deprecated and will be removed in a future version. Use ``sep='\\s+'`` instead\n",
      "  df = pd.read_csv(file_path, delim_whitespace=True, header=None)  # Adjust delimiter if needed\n"
     ]
    },
    {
     "name": "stdout",
     "output_type": "stream",
     "text": [
      "Normalized file saved: C:\\Users\\Admin\\Desktop\\Research\\EGG\\Normalized_Data\\normalized_sub33_hi.csv\n"
     ]
    },
    {
     "name": "stderr",
     "output_type": "stream",
     "text": [
      "C:\\Users\\Admin\\AppData\\Local\\Temp\\ipykernel_6164\\2045240408.py:32: FutureWarning: The 'delim_whitespace' keyword in pd.read_csv is deprecated and will be removed in a future version. Use ``sep='\\s+'`` instead\n",
      "  df = pd.read_csv(file_path, delim_whitespace=True, header=None)  # Adjust delimiter if needed\n"
     ]
    },
    {
     "name": "stdout",
     "output_type": "stream",
     "text": [
      "Normalized file saved: C:\\Users\\Admin\\Desktop\\Research\\EGG\\Normalized_Data\\normalized_sub33_lo.csv\n"
     ]
    },
    {
     "name": "stderr",
     "output_type": "stream",
     "text": [
      "C:\\Users\\Admin\\AppData\\Local\\Temp\\ipykernel_6164\\2045240408.py:32: FutureWarning: The 'delim_whitespace' keyword in pd.read_csv is deprecated and will be removed in a future version. Use ``sep='\\s+'`` instead\n",
      "  df = pd.read_csv(file_path, delim_whitespace=True, header=None)  # Adjust delimiter if needed\n"
     ]
    },
    {
     "name": "stdout",
     "output_type": "stream",
     "text": [
      "Normalized file saved: C:\\Users\\Admin\\Desktop\\Research\\EGG\\Normalized_Data\\normalized_sub34_hi.csv\n"
     ]
    },
    {
     "name": "stderr",
     "output_type": "stream",
     "text": [
      "C:\\Users\\Admin\\AppData\\Local\\Temp\\ipykernel_6164\\2045240408.py:32: FutureWarning: The 'delim_whitespace' keyword in pd.read_csv is deprecated and will be removed in a future version. Use ``sep='\\s+'`` instead\n",
      "  df = pd.read_csv(file_path, delim_whitespace=True, header=None)  # Adjust delimiter if needed\n"
     ]
    },
    {
     "name": "stdout",
     "output_type": "stream",
     "text": [
      "Normalized file saved: C:\\Users\\Admin\\Desktop\\Research\\EGG\\Normalized_Data\\normalized_sub34_lo.csv\n"
     ]
    },
    {
     "name": "stderr",
     "output_type": "stream",
     "text": [
      "C:\\Users\\Admin\\AppData\\Local\\Temp\\ipykernel_6164\\2045240408.py:32: FutureWarning: The 'delim_whitespace' keyword in pd.read_csv is deprecated and will be removed in a future version. Use ``sep='\\s+'`` instead\n",
      "  df = pd.read_csv(file_path, delim_whitespace=True, header=None)  # Adjust delimiter if needed\n"
     ]
    },
    {
     "name": "stdout",
     "output_type": "stream",
     "text": [
      "Normalized file saved: C:\\Users\\Admin\\Desktop\\Research\\EGG\\Normalized_Data\\normalized_sub35_hi.csv\n"
     ]
    },
    {
     "name": "stderr",
     "output_type": "stream",
     "text": [
      "C:\\Users\\Admin\\AppData\\Local\\Temp\\ipykernel_6164\\2045240408.py:32: FutureWarning: The 'delim_whitespace' keyword in pd.read_csv is deprecated and will be removed in a future version. Use ``sep='\\s+'`` instead\n",
      "  df = pd.read_csv(file_path, delim_whitespace=True, header=None)  # Adjust delimiter if needed\n"
     ]
    },
    {
     "name": "stdout",
     "output_type": "stream",
     "text": [
      "Normalized file saved: C:\\Users\\Admin\\Desktop\\Research\\EGG\\Normalized_Data\\normalized_sub35_lo.csv\n"
     ]
    },
    {
     "name": "stderr",
     "output_type": "stream",
     "text": [
      "C:\\Users\\Admin\\AppData\\Local\\Temp\\ipykernel_6164\\2045240408.py:32: FutureWarning: The 'delim_whitespace' keyword in pd.read_csv is deprecated and will be removed in a future version. Use ``sep='\\s+'`` instead\n",
      "  df = pd.read_csv(file_path, delim_whitespace=True, header=None)  # Adjust delimiter if needed\n"
     ]
    },
    {
     "name": "stdout",
     "output_type": "stream",
     "text": [
      "Normalized file saved: C:\\Users\\Admin\\Desktop\\Research\\EGG\\Normalized_Data\\normalized_sub36_hi.csv\n"
     ]
    },
    {
     "name": "stderr",
     "output_type": "stream",
     "text": [
      "C:\\Users\\Admin\\AppData\\Local\\Temp\\ipykernel_6164\\2045240408.py:32: FutureWarning: The 'delim_whitespace' keyword in pd.read_csv is deprecated and will be removed in a future version. Use ``sep='\\s+'`` instead\n",
      "  df = pd.read_csv(file_path, delim_whitespace=True, header=None)  # Adjust delimiter if needed\n"
     ]
    },
    {
     "name": "stdout",
     "output_type": "stream",
     "text": [
      "Normalized file saved: C:\\Users\\Admin\\Desktop\\Research\\EGG\\Normalized_Data\\normalized_sub36_lo.csv\n"
     ]
    },
    {
     "name": "stderr",
     "output_type": "stream",
     "text": [
      "C:\\Users\\Admin\\AppData\\Local\\Temp\\ipykernel_6164\\2045240408.py:32: FutureWarning: The 'delim_whitespace' keyword in pd.read_csv is deprecated and will be removed in a future version. Use ``sep='\\s+'`` instead\n",
      "  df = pd.read_csv(file_path, delim_whitespace=True, header=None)  # Adjust delimiter if needed\n"
     ]
    },
    {
     "name": "stdout",
     "output_type": "stream",
     "text": [
      "Normalized file saved: C:\\Users\\Admin\\Desktop\\Research\\EGG\\Normalized_Data\\normalized_sub37_hi.csv\n"
     ]
    },
    {
     "name": "stderr",
     "output_type": "stream",
     "text": [
      "C:\\Users\\Admin\\AppData\\Local\\Temp\\ipykernel_6164\\2045240408.py:32: FutureWarning: The 'delim_whitespace' keyword in pd.read_csv is deprecated and will be removed in a future version. Use ``sep='\\s+'`` instead\n",
      "  df = pd.read_csv(file_path, delim_whitespace=True, header=None)  # Adjust delimiter if needed\n"
     ]
    },
    {
     "name": "stdout",
     "output_type": "stream",
     "text": [
      "Normalized file saved: C:\\Users\\Admin\\Desktop\\Research\\EGG\\Normalized_Data\\normalized_sub37_lo.csv\n"
     ]
    },
    {
     "name": "stderr",
     "output_type": "stream",
     "text": [
      "C:\\Users\\Admin\\AppData\\Local\\Temp\\ipykernel_6164\\2045240408.py:32: FutureWarning: The 'delim_whitespace' keyword in pd.read_csv is deprecated and will be removed in a future version. Use ``sep='\\s+'`` instead\n",
      "  df = pd.read_csv(file_path, delim_whitespace=True, header=None)  # Adjust delimiter if needed\n"
     ]
    },
    {
     "name": "stdout",
     "output_type": "stream",
     "text": [
      "Normalized file saved: C:\\Users\\Admin\\Desktop\\Research\\EGG\\Normalized_Data\\normalized_sub38_hi.csv\n"
     ]
    },
    {
     "name": "stderr",
     "output_type": "stream",
     "text": [
      "C:\\Users\\Admin\\AppData\\Local\\Temp\\ipykernel_6164\\2045240408.py:32: FutureWarning: The 'delim_whitespace' keyword in pd.read_csv is deprecated and will be removed in a future version. Use ``sep='\\s+'`` instead\n",
      "  df = pd.read_csv(file_path, delim_whitespace=True, header=None)  # Adjust delimiter if needed\n"
     ]
    },
    {
     "name": "stdout",
     "output_type": "stream",
     "text": [
      "Normalized file saved: C:\\Users\\Admin\\Desktop\\Research\\EGG\\Normalized_Data\\normalized_sub38_lo.csv\n"
     ]
    },
    {
     "name": "stderr",
     "output_type": "stream",
     "text": [
      "C:\\Users\\Admin\\AppData\\Local\\Temp\\ipykernel_6164\\2045240408.py:32: FutureWarning: The 'delim_whitespace' keyword in pd.read_csv is deprecated and will be removed in a future version. Use ``sep='\\s+'`` instead\n",
      "  df = pd.read_csv(file_path, delim_whitespace=True, header=None)  # Adjust delimiter if needed\n"
     ]
    },
    {
     "name": "stdout",
     "output_type": "stream",
     "text": [
      "Normalized file saved: C:\\Users\\Admin\\Desktop\\Research\\EGG\\Normalized_Data\\normalized_sub39_hi.csv\n"
     ]
    },
    {
     "name": "stderr",
     "output_type": "stream",
     "text": [
      "C:\\Users\\Admin\\AppData\\Local\\Temp\\ipykernel_6164\\2045240408.py:32: FutureWarning: The 'delim_whitespace' keyword in pd.read_csv is deprecated and will be removed in a future version. Use ``sep='\\s+'`` instead\n",
      "  df = pd.read_csv(file_path, delim_whitespace=True, header=None)  # Adjust delimiter if needed\n"
     ]
    },
    {
     "name": "stdout",
     "output_type": "stream",
     "text": [
      "Normalized file saved: C:\\Users\\Admin\\Desktop\\Research\\EGG\\Normalized_Data\\normalized_sub39_lo.csv\n"
     ]
    },
    {
     "name": "stderr",
     "output_type": "stream",
     "text": [
      "C:\\Users\\Admin\\AppData\\Local\\Temp\\ipykernel_6164\\2045240408.py:32: FutureWarning: The 'delim_whitespace' keyword in pd.read_csv is deprecated and will be removed in a future version. Use ``sep='\\s+'`` instead\n",
      "  df = pd.read_csv(file_path, delim_whitespace=True, header=None)  # Adjust delimiter if needed\n"
     ]
    },
    {
     "name": "stdout",
     "output_type": "stream",
     "text": [
      "Normalized file saved: C:\\Users\\Admin\\Desktop\\Research\\EGG\\Normalized_Data\\normalized_sub40_hi.csv\n"
     ]
    },
    {
     "name": "stderr",
     "output_type": "stream",
     "text": [
      "C:\\Users\\Admin\\AppData\\Local\\Temp\\ipykernel_6164\\2045240408.py:32: FutureWarning: The 'delim_whitespace' keyword in pd.read_csv is deprecated and will be removed in a future version. Use ``sep='\\s+'`` instead\n",
      "  df = pd.read_csv(file_path, delim_whitespace=True, header=None)  # Adjust delimiter if needed\n"
     ]
    },
    {
     "name": "stdout",
     "output_type": "stream",
     "text": [
      "Normalized file saved: C:\\Users\\Admin\\Desktop\\Research\\EGG\\Normalized_Data\\normalized_sub40_lo.csv\n"
     ]
    },
    {
     "name": "stderr",
     "output_type": "stream",
     "text": [
      "C:\\Users\\Admin\\AppData\\Local\\Temp\\ipykernel_6164\\2045240408.py:32: FutureWarning: The 'delim_whitespace' keyword in pd.read_csv is deprecated and will be removed in a future version. Use ``sep='\\s+'`` instead\n",
      "  df = pd.read_csv(file_path, delim_whitespace=True, header=None)  # Adjust delimiter if needed\n"
     ]
    },
    {
     "name": "stdout",
     "output_type": "stream",
     "text": [
      "Normalized file saved: C:\\Users\\Admin\\Desktop\\Research\\EGG\\Normalized_Data\\normalized_sub41_hi.csv\n"
     ]
    },
    {
     "name": "stderr",
     "output_type": "stream",
     "text": [
      "C:\\Users\\Admin\\AppData\\Local\\Temp\\ipykernel_6164\\2045240408.py:32: FutureWarning: The 'delim_whitespace' keyword in pd.read_csv is deprecated and will be removed in a future version. Use ``sep='\\s+'`` instead\n",
      "  df = pd.read_csv(file_path, delim_whitespace=True, header=None)  # Adjust delimiter if needed\n"
     ]
    },
    {
     "name": "stdout",
     "output_type": "stream",
     "text": [
      "Normalized file saved: C:\\Users\\Admin\\Desktop\\Research\\EGG\\Normalized_Data\\normalized_sub41_lo.csv\n"
     ]
    },
    {
     "name": "stderr",
     "output_type": "stream",
     "text": [
      "C:\\Users\\Admin\\AppData\\Local\\Temp\\ipykernel_6164\\2045240408.py:32: FutureWarning: The 'delim_whitespace' keyword in pd.read_csv is deprecated and will be removed in a future version. Use ``sep='\\s+'`` instead\n",
      "  df = pd.read_csv(file_path, delim_whitespace=True, header=None)  # Adjust delimiter if needed\n"
     ]
    },
    {
     "name": "stdout",
     "output_type": "stream",
     "text": [
      "Normalized file saved: C:\\Users\\Admin\\Desktop\\Research\\EGG\\Normalized_Data\\normalized_sub42_hi.csv\n"
     ]
    },
    {
     "name": "stderr",
     "output_type": "stream",
     "text": [
      "C:\\Users\\Admin\\AppData\\Local\\Temp\\ipykernel_6164\\2045240408.py:32: FutureWarning: The 'delim_whitespace' keyword in pd.read_csv is deprecated and will be removed in a future version. Use ``sep='\\s+'`` instead\n",
      "  df = pd.read_csv(file_path, delim_whitespace=True, header=None)  # Adjust delimiter if needed\n"
     ]
    },
    {
     "name": "stdout",
     "output_type": "stream",
     "text": [
      "Normalized file saved: C:\\Users\\Admin\\Desktop\\Research\\EGG\\Normalized_Data\\normalized_sub42_lo.csv\n"
     ]
    },
    {
     "name": "stderr",
     "output_type": "stream",
     "text": [
      "C:\\Users\\Admin\\AppData\\Local\\Temp\\ipykernel_6164\\2045240408.py:32: FutureWarning: The 'delim_whitespace' keyword in pd.read_csv is deprecated and will be removed in a future version. Use ``sep='\\s+'`` instead\n",
      "  df = pd.read_csv(file_path, delim_whitespace=True, header=None)  # Adjust delimiter if needed\n"
     ]
    },
    {
     "name": "stdout",
     "output_type": "stream",
     "text": [
      "Normalized file saved: C:\\Users\\Admin\\Desktop\\Research\\EGG\\Normalized_Data\\normalized_sub43_hi.csv\n"
     ]
    },
    {
     "name": "stderr",
     "output_type": "stream",
     "text": [
      "C:\\Users\\Admin\\AppData\\Local\\Temp\\ipykernel_6164\\2045240408.py:32: FutureWarning: The 'delim_whitespace' keyword in pd.read_csv is deprecated and will be removed in a future version. Use ``sep='\\s+'`` instead\n",
      "  df = pd.read_csv(file_path, delim_whitespace=True, header=None)  # Adjust delimiter if needed\n"
     ]
    },
    {
     "name": "stdout",
     "output_type": "stream",
     "text": [
      "Normalized file saved: C:\\Users\\Admin\\Desktop\\Research\\EGG\\Normalized_Data\\normalized_sub43_lo.csv\n"
     ]
    },
    {
     "name": "stderr",
     "output_type": "stream",
     "text": [
      "C:\\Users\\Admin\\AppData\\Local\\Temp\\ipykernel_6164\\2045240408.py:32: FutureWarning: The 'delim_whitespace' keyword in pd.read_csv is deprecated and will be removed in a future version. Use ``sep='\\s+'`` instead\n",
      "  df = pd.read_csv(file_path, delim_whitespace=True, header=None)  # Adjust delimiter if needed\n"
     ]
    },
    {
     "name": "stdout",
     "output_type": "stream",
     "text": [
      "Normalized file saved: C:\\Users\\Admin\\Desktop\\Research\\EGG\\Normalized_Data\\normalized_sub44_hi.csv\n"
     ]
    },
    {
     "name": "stderr",
     "output_type": "stream",
     "text": [
      "C:\\Users\\Admin\\AppData\\Local\\Temp\\ipykernel_6164\\2045240408.py:32: FutureWarning: The 'delim_whitespace' keyword in pd.read_csv is deprecated and will be removed in a future version. Use ``sep='\\s+'`` instead\n",
      "  df = pd.read_csv(file_path, delim_whitespace=True, header=None)  # Adjust delimiter if needed\n"
     ]
    },
    {
     "name": "stdout",
     "output_type": "stream",
     "text": [
      "Normalized file saved: C:\\Users\\Admin\\Desktop\\Research\\EGG\\Normalized_Data\\normalized_sub44_lo.csv\n"
     ]
    },
    {
     "name": "stderr",
     "output_type": "stream",
     "text": [
      "C:\\Users\\Admin\\AppData\\Local\\Temp\\ipykernel_6164\\2045240408.py:32: FutureWarning: The 'delim_whitespace' keyword in pd.read_csv is deprecated and will be removed in a future version. Use ``sep='\\s+'`` instead\n",
      "  df = pd.read_csv(file_path, delim_whitespace=True, header=None)  # Adjust delimiter if needed\n"
     ]
    },
    {
     "name": "stdout",
     "output_type": "stream",
     "text": [
      "Normalized file saved: C:\\Users\\Admin\\Desktop\\Research\\EGG\\Normalized_Data\\normalized_sub45_hi.csv\n"
     ]
    },
    {
     "name": "stderr",
     "output_type": "stream",
     "text": [
      "C:\\Users\\Admin\\AppData\\Local\\Temp\\ipykernel_6164\\2045240408.py:32: FutureWarning: The 'delim_whitespace' keyword in pd.read_csv is deprecated and will be removed in a future version. Use ``sep='\\s+'`` instead\n",
      "  df = pd.read_csv(file_path, delim_whitespace=True, header=None)  # Adjust delimiter if needed\n"
     ]
    },
    {
     "name": "stdout",
     "output_type": "stream",
     "text": [
      "Normalized file saved: C:\\Users\\Admin\\Desktop\\Research\\EGG\\Normalized_Data\\normalized_sub45_lo.csv\n"
     ]
    },
    {
     "name": "stderr",
     "output_type": "stream",
     "text": [
      "C:\\Users\\Admin\\AppData\\Local\\Temp\\ipykernel_6164\\2045240408.py:32: FutureWarning: The 'delim_whitespace' keyword in pd.read_csv is deprecated and will be removed in a future version. Use ``sep='\\s+'`` instead\n",
      "  df = pd.read_csv(file_path, delim_whitespace=True, header=None)  # Adjust delimiter if needed\n"
     ]
    },
    {
     "name": "stdout",
     "output_type": "stream",
     "text": [
      "Normalized file saved: C:\\Users\\Admin\\Desktop\\Research\\EGG\\Normalized_Data\\normalized_sub46_hi.csv\n"
     ]
    },
    {
     "name": "stderr",
     "output_type": "stream",
     "text": [
      "C:\\Users\\Admin\\AppData\\Local\\Temp\\ipykernel_6164\\2045240408.py:32: FutureWarning: The 'delim_whitespace' keyword in pd.read_csv is deprecated and will be removed in a future version. Use ``sep='\\s+'`` instead\n",
      "  df = pd.read_csv(file_path, delim_whitespace=True, header=None)  # Adjust delimiter if needed\n"
     ]
    },
    {
     "name": "stdout",
     "output_type": "stream",
     "text": [
      "Normalized file saved: C:\\Users\\Admin\\Desktop\\Research\\EGG\\Normalized_Data\\normalized_sub46_lo.csv\n"
     ]
    },
    {
     "name": "stderr",
     "output_type": "stream",
     "text": [
      "C:\\Users\\Admin\\AppData\\Local\\Temp\\ipykernel_6164\\2045240408.py:32: FutureWarning: The 'delim_whitespace' keyword in pd.read_csv is deprecated and will be removed in a future version. Use ``sep='\\s+'`` instead\n",
      "  df = pd.read_csv(file_path, delim_whitespace=True, header=None)  # Adjust delimiter if needed\n"
     ]
    },
    {
     "name": "stdout",
     "output_type": "stream",
     "text": [
      "Normalized file saved: C:\\Users\\Admin\\Desktop\\Research\\EGG\\Normalized_Data\\normalized_sub47_hi.csv\n"
     ]
    },
    {
     "name": "stderr",
     "output_type": "stream",
     "text": [
      "C:\\Users\\Admin\\AppData\\Local\\Temp\\ipykernel_6164\\2045240408.py:32: FutureWarning: The 'delim_whitespace' keyword in pd.read_csv is deprecated and will be removed in a future version. Use ``sep='\\s+'`` instead\n",
      "  df = pd.read_csv(file_path, delim_whitespace=True, header=None)  # Adjust delimiter if needed\n"
     ]
    },
    {
     "name": "stdout",
     "output_type": "stream",
     "text": [
      "Normalized file saved: C:\\Users\\Admin\\Desktop\\Research\\EGG\\Normalized_Data\\normalized_sub47_lo.csv\n"
     ]
    },
    {
     "name": "stderr",
     "output_type": "stream",
     "text": [
      "C:\\Users\\Admin\\AppData\\Local\\Temp\\ipykernel_6164\\2045240408.py:32: FutureWarning: The 'delim_whitespace' keyword in pd.read_csv is deprecated and will be removed in a future version. Use ``sep='\\s+'`` instead\n",
      "  df = pd.read_csv(file_path, delim_whitespace=True, header=None)  # Adjust delimiter if needed\n"
     ]
    },
    {
     "name": "stdout",
     "output_type": "stream",
     "text": [
      "Normalized file saved: C:\\Users\\Admin\\Desktop\\Research\\EGG\\Normalized_Data\\normalized_sub48_hi.csv\n"
     ]
    },
    {
     "name": "stderr",
     "output_type": "stream",
     "text": [
      "C:\\Users\\Admin\\AppData\\Local\\Temp\\ipykernel_6164\\2045240408.py:32: FutureWarning: The 'delim_whitespace' keyword in pd.read_csv is deprecated and will be removed in a future version. Use ``sep='\\s+'`` instead\n",
      "  df = pd.read_csv(file_path, delim_whitespace=True, header=None)  # Adjust delimiter if needed\n"
     ]
    },
    {
     "name": "stdout",
     "output_type": "stream",
     "text": [
      "Normalized file saved: C:\\Users\\Admin\\Desktop\\Research\\EGG\\Normalized_Data\\normalized_sub48_lo.csv\n"
     ]
    }
   ],
   "source": [
    "import os\n",
    "import pandas as pd\n",
    "from sklearn.preprocessing import StandardScaler\n",
    "\n",
    "# Set the folder paths\n",
    "input_folder_path = r'C:\\Users\\Admin\\Desktop\\Research\\EGG\\STEW Dataset'\n",
    "output_folder_path = r'C:\\Users\\Admin\\Desktop\\Research\\EGG\\Normalized_Data'\n",
    "\n",
    "# Ensure the output folder exists, if not, create it\n",
    "if not os.path.exists(output_folder_path):\n",
    "    os.makedirs(output_folder_path)\n",
    "\n",
    "# Get all TXT file names in the folder\n",
    "files = [f for f in os.listdir(input_folder_path) if f.endswith('.txt')]\n",
    "\n",
    "# Debugging: Print the list of files\n",
    "print(f\"Files found in the folder: {files}\")\n",
    "\n",
    "# If no TXT files are found, print a message\n",
    "if not files:\n",
    "    print(\"No TXT files found in the folder.\")\n",
    "else:\n",
    "    # Initialize the StandardScaler\n",
    "    scaler = StandardScaler()\n",
    "\n",
    "    # Loop through each file\n",
    "    for file in files:\n",
    "        # Construct the file path\n",
    "        file_path = os.path.join(input_folder_path, file)\n",
    "        \n",
    "        # Read the file (adjusting separator if needed)\n",
    "        df = pd.read_csv(file_path, delim_whitespace=True, header=None)  # Adjust delimiter if needed\n",
    "        \n",
    "        # Check if the dataframe contains only numeric values\n",
    "        if not df.apply(pd.to_numeric, errors='coerce').notna().all().all():\n",
    "            print(f\"Skipping file {file} due to non-numeric data.\")\n",
    "            continue\n",
    "        \n",
    "        # Normalize the data\n",
    "        df_normalized = pd.DataFrame(scaler.fit_transform(df), columns=df.columns)\n",
    "        \n",
    "        # Save the normalized data in the output folder as a CSV\n",
    "        normalized_file_path = os.path.join(output_folder_path, f\"normalized_{file.replace('.txt', '.csv')}\")\n",
    "        df_normalized.to_csv(normalized_file_path, index=False)\n",
    "        \n",
    "        print(f\"Normalized file saved: {normalized_file_path}\")\n"
   ]
  },
  {
   "cell_type": "code",
   "execution_count": 16,
   "metadata": {},
   "outputs": [
    {
     "name": "stdout",
     "output_type": "stream",
     "text": [
      "Shape of X (features): (19200, 13)\n",
      "Shape of y (target): (19200,)\n"
     ]
    }
   ],
   "source": [
    "from sklearn.model_selection import train_test_split\n",
    "\n",
    "# Example: Assuming `df_normalized` is your data\n",
    "X = df_normalized.iloc[:, :-1]  # Select all columns except the last one (features)\n",
    "y = df_normalized.iloc[:, -1]   # Select the last column (target)\n",
    "\n",
    "\n",
    "# Split into training and testing sets (80% train, 20% test)\n",
    "X_train, X_test, y_train, y_test = train_test_split(X, y, test_size=0.2, random_state=42)\n",
    "\n",
    "print(\"Shape of X (features):\", X.shape)\n",
    "print(\"Shape of y (target):\", y.shape)\n",
    "\n"
   ]
  },
  {
   "cell_type": "code",
   "execution_count": 17,
   "metadata": {},
   "outputs": [
    {
     "name": "stdout",
     "output_type": "stream",
     "text": [
      "Shape of X_train: (15360, 13)\n",
      "Shape of X_test: (3840, 13)\n",
      "Shape of y_train: (15360,)\n",
      "Shape of y_test: (3840,)\n"
     ]
    }
   ],
   "source": [
    "from sklearn.model_selection import train_test_split\n",
    "\n",
    "# Split the dataset into 80% training and 20% testing\n",
    "X_train, X_test, y_train, y_test = train_test_split(X, y, test_size=0.2, random_state=42)\n",
    "\n",
    "# Print the shapes of the split datasets\n",
    "print(\"Shape of X_train:\", X_train.shape)\n",
    "print(\"Shape of X_test:\", X_test.shape)\n",
    "print(\"Shape of y_train:\", y_train.shape)\n",
    "print(\"Shape of y_test:\", y_test.shape)\n"
   ]
  },
  {
   "cell_type": "code",
   "execution_count": 18,
   "metadata": {},
   "outputs": [],
   "source": [
    "from scipy.signal import butter, filtfilt\n",
    "\n",
    "def bandpass_filter(data, low_cutoff, high_cutoff, fs, order=4):\n",
    "    nyquist = 0.5 * fs\n",
    "    low = low_cutoff / nyquist\n",
    "    high = high_cutoff / nyquist\n",
    "    b, a = butter(order, [low, high], btype='band')\n",
    "    return filtfilt(b, a, data, axis=0)\n",
    "\n",
    "# Example of bandpass filtering for 7-32 Hz\n",
    "fs = 256  # Assuming your EEG data has a sampling frequency of 256 Hz\n",
    "data_filtered_7_32 = bandpass_filter(X_train, 7, 32, fs)\n",
    "data_filtered_7_40 = bandpass_filter(X_train, 7, 40, fs)\n"
   ]
  },
  {
   "cell_type": "code",
   "execution_count": 21,
   "metadata": {},
   "outputs": [],
   "source": [
    "from sklearn.decomposition import FastICA\n",
    "\n",
    "ica = FastICA(n_components=10)  # You can adjust the number of components\n",
    "X_train_ica = ica.fit_transform(X_train)  # Apply ICA on training data\n",
    "X_test_ica = ica.transform(X_test)  # Apply ICA on testing data\n",
    "\n",
    "# You can remove specific components by setting them to 0\n",
    "X_train_ica[:, 0] = 0  # Remove the first component (for example, noise component)\n",
    "X_test_ica[:, 0] = 0  # Remove the same component from the test set\n"
   ]
  },
  {
   "cell_type": "code",
   "execution_count": 24,
   "metadata": {},
   "outputs": [
    {
     "name": "stdout",
     "output_type": "stream",
     "text": [
      "(15360,)\n",
      "12477    1.299311\n",
      "3781     0.463060\n",
      "30      -0.694228\n",
      "1604    -0.168963\n",
      "10027   -1.209631\n",
      "Name: 13, dtype: float64\n",
      "Number of features selected: 3\n"
     ]
    }
   ],
   "source": [
    "from sklearn.ensemble import RandomForestRegressor\n",
    "from sklearn.feature_selection import SelectFromModel\n",
    "import numpy as np\n",
    "\n",
    "# Check the shape and first few values of y_train\n",
    "print(y_train.shape)  # It should output something like (n_samples,)\n",
    "print(y_train.head())  # Check the first few entries to make sure they are numerical\n",
    "\n",
    "# Train a Random Forest Regressor\n",
    "regressor = RandomForestRegressor()\n",
    "regressor.fit(X_train, y_train)\n",
    "\n",
    "# Use feature importance to select the most relevant channels\n",
    "selector = SelectFromModel(regressor, threshold=\"mean\")\n",
    "X_train_selected = selector.transform(X_train)\n",
    "X_test_selected = selector.transform(X_test)\n",
    "\n",
    "# Optionally, check the number of features selected\n",
    "print(\"Number of features selected:\", X_train_selected.shape[1])\n",
    "\n"
   ]
  },
  {
   "cell_type": "code",
   "execution_count": 32,
   "metadata": {},
   "outputs": [
    {
     "name": "stdout",
     "output_type": "stream",
     "text": [
      "PSNR (Train) Before Preprocessing: 10.130836246410853\n",
      "PSNR (Test) Before Preprocessing: 9.864383030970622\n",
      "PSNR (Train) After Preprocessing: 100\n",
      "PSNR (Test) After Preprocessing: 100\n"
     ]
    }
   ],
   "source": [
    "import numpy as np\n",
    "from sklearn.decomposition import FastICA\n",
    "\n",
    "# Apply ICA or other preprocessing\n",
    "ica = FastICA(n_components=5, random_state=0)\n",
    "X_train_reconstructed = ica.fit_transform(X_train)  # Reconstruct the signal\n",
    "X_test_reconstructed = ica.transform(X_test)  # Reconstruct the signal for test set\n",
    "\n",
    "# Signal-to-Noise Ratio (SNR)\n",
    "def snr(signal, noise):\n",
    "    signal_power = np.mean(signal**2)\n",
    "    noise_power = np.mean(noise**2)\n",
    "    return 10 * np.log10(signal_power / noise_power)\n",
    "\n",
    "# Peak Signal-to-Noise Ratio (PSNR)\n",
    "def psnr(original, processed):\n",
    "    # Ensure the data are numpy arrays for compatibility\n",
    "    original = np.asarray(original)\n",
    "    processed = np.asarray(processed)\n",
    "\n",
    "    # Check if both arrays have the same shape\n",
    "    min_len = min(original.shape[1], processed.shape[1])  # Adjust to the minimum dimension length\n",
    "    original = original[:, :min_len]\n",
    "    processed = processed[:, :min_len]\n",
    "    \n",
    "    # Compute Mean Squared Error (MSE)\n",
    "    mse = np.mean((original - processed) ** 2)\n",
    "    if mse == 0:\n",
    "        return 100  # Perfect match\n",
    "    max_pixel = np.max(original)  # Assuming the max pixel value is the same for both\n",
    "    return 20 * np.log10(max_pixel / np.sqrt(mse))\n",
    "\n",
    "# Calculate PSNR for training set (Before Preprocessing)\n",
    "psnr_train_before = psnr(X_train, X_train_reconstructed)\n",
    "psnr_test_before = psnr(X_test, X_test_reconstructed)\n",
    "\n",
    "# Calculate PSNR for training set (After Preprocessing)\n",
    "psnr_train_after = psnr(X_train_reconstructed, X_train_reconstructed)  # Compare reconstructed with reconstructed\n",
    "psnr_test_after = psnr(X_test_reconstructed, X_test_reconstructed)  # Compare reconstructed with reconstructed\n",
    "\n",
    "# Print PSNR values\n",
    "print(\"PSNR (Train) Before Preprocessing:\", psnr_train_before)\n",
    "print(\"PSNR (Test) Before Preprocessing:\", psnr_test_before)\n",
    "print(\"PSNR (Train) After Preprocessing:\", psnr_train_after)\n",
    "print(\"PSNR (Test) After Preprocessing:\", psnr_test_after)\n"
   ]
  },
  {
   "cell_type": "code",
   "execution_count": 37,
   "metadata": {},
   "outputs": [
    {
     "name": "stdout",
     "output_type": "stream",
     "text": [
      "Model Accuracy (Filtered Data): 0.8747395833333333\n"
     ]
    }
   ],
   "source": [
    "# Convert continuous targets to discrete labels (e.g., binning into 3 categories)\n",
    "import numpy as np\n",
    "from sklearn.preprocessing import KBinsDiscretizer\n",
    "\n",
    "# Ensure y_train and y_test are numpy arrays\n",
    "y_train = y_train.to_numpy()\n",
    "y_test = y_test.to_numpy()\n",
    "\n",
    "# Reshape and discretize\n",
    "k_bins = 3\n",
    "encoder = KBinsDiscretizer(n_bins=k_bins, encode='ordinal', strategy='uniform')\n",
    "y_train_discrete = encoder.fit_transform(y_train.reshape(-1, 1)).ravel()\n",
    "y_test_discrete = encoder.transform(y_test.reshape(-1, 1)).ravel()\n",
    "\n",
    "# Continue with model training\n",
    "clf = RandomForestClassifier(random_state=0)\n",
    "clf.fit(X_train_filtered, y_train_discrete)\n",
    "\n",
    "# Test the model\n",
    "accuracy = clf.score(X_test_filtered, y_test_discrete)\n",
    "print(\"Model Accuracy (Filtered Data):\", accuracy)\n"
   ]
  },
  {
   "cell_type": "code",
   "execution_count": 38,
   "metadata": {},
   "outputs": [
    {
     "name": "stdout",
     "output_type": "stream",
     "text": [
      "Model Accuracy with SVM: 0.8768229166666667\n"
     ]
    }
   ],
   "source": [
    "from sklearn.svm import SVC\n",
    "clf = SVC(random_state=0)\n",
    "clf.fit(X_train_filtered, y_train_discrete)\n",
    "accuracy = clf.score(X_test_filtered, y_test_discrete)\n",
    "print(\"Model Accuracy with SVM:\", accuracy)\n"
   ]
  },
  {
   "cell_type": "code",
   "execution_count": 39,
   "metadata": {},
   "outputs": [
    {
     "name": "stdout",
     "output_type": "stream",
     "text": [
      "Best Params: {'max_depth': None, 'min_samples_split': 5, 'n_estimators': 100}\n",
      "Best Accuracy: 0.8743489583333334\n"
     ]
    }
   ],
   "source": [
    "from sklearn.model_selection import GridSearchCV\n",
    "\n",
    "param_grid = {\n",
    "    'n_estimators': [100, 200, 300],\n",
    "    'max_depth': [None, 10, 20],\n",
    "    'min_samples_split': [2, 5, 10]\n",
    "}\n",
    "\n",
    "grid_search = GridSearchCV(RandomForestClassifier(random_state=0), param_grid, cv=3)\n",
    "grid_search.fit(X_train_filtered, y_train_discrete)\n",
    "print(\"Best Params:\", grid_search.best_params_)\n",
    "print(\"Best Accuracy:\", grid_search.best_score_)\n"
   ]
  },
  {
   "cell_type": "code",
   "execution_count": 40,
   "metadata": {},
   "outputs": [
    {
     "name": "stdout",
     "output_type": "stream",
     "text": [
      "Cross-Validation Accuracy: 0.8734375\n"
     ]
    }
   ],
   "source": [
    "from sklearn.model_selection import cross_val_score\n",
    "\n",
    "scores = cross_val_score(clf, X_train_filtered, y_train_discrete, cv=5)\n",
    "print(\"Cross-Validation Accuracy:\", scores.mean())\n"
   ]
  },
  {
   "cell_type": "code",
   "execution_count": 41,
   "metadata": {},
   "outputs": [
    {
     "name": "stdout",
     "output_type": "stream",
     "text": [
      "Best Parameters: {'max_depth': None, 'min_samples_leaf': 4, 'min_samples_split': 10, 'n_estimators': 200}\n",
      "Best Cross-Validation Accuracy: 0.8744140625\n",
      "Test Accuracy with Best Parameters: 0.87734375\n"
     ]
    }
   ],
   "source": [
    "from sklearn.model_selection import GridSearchCV\n",
    "from sklearn.ensemble import RandomForestClassifier\n",
    "\n",
    "# Define the parameter grid\n",
    "param_grid = {\n",
    "    'n_estimators': [50, 100, 200],\n",
    "    'max_depth': [None, 10, 20, 30],\n",
    "    'min_samples_split': [2, 5, 10],\n",
    "    'min_samples_leaf': [1, 2, 4]\n",
    "}\n",
    "\n",
    "# Initialize the Random Forest model\n",
    "clf = RandomForestClassifier(random_state=0)\n",
    "\n",
    "# Use GridSearchCV to find the best parameters\n",
    "grid_search = GridSearchCV(estimator=clf, param_grid=param_grid, cv=5, scoring='accuracy', n_jobs=-1)\n",
    "\n",
    "# Fit the model on the training data\n",
    "grid_search.fit(X_train, y_train_discrete)\n",
    "\n",
    "# Print the best parameters and the corresponding accuracy\n",
    "print(\"Best Parameters:\", grid_search.best_params_)\n",
    "print(\"Best Cross-Validation Accuracy:\", grid_search.best_score_)\n",
    "\n",
    "# Use the best estimator for testing\n",
    "best_clf = grid_search.best_estimator_\n",
    "test_accuracy = best_clf.score(X_test, y_test_discrete)\n",
    "print(\"Test Accuracy with Best Parameters:\", test_accuracy)\n"
   ]
  },
  {
   "cell_type": "code",
   "execution_count": 42,
   "metadata": {},
   "outputs": [
    {
     "name": "stdout",
     "output_type": "stream",
     "text": [
      "SVM Test Accuracy: 0.8770833333333333\n"
     ]
    }
   ],
   "source": [
    "from sklearn.svm import SVC\n",
    "\n",
    "# Initialize SVM\n",
    "svm_clf = SVC(kernel='rbf', random_state=0)\n",
    "\n",
    "# Train the SVM model\n",
    "svm_clf.fit(X_train, y_train_discrete)\n",
    "\n",
    "# Test Accuracy\n",
    "svm_accuracy = svm_clf.score(X_test, y_test_discrete)\n",
    "print(\"SVM Test Accuracy:\", svm_accuracy)\n"
   ]
  },
  {
   "cell_type": "code",
   "execution_count": 44,
   "metadata": {},
   "outputs": [
    {
     "name": "stdout",
     "output_type": "stream",
     "text": [
      "Gradient Boosting Test Accuracy: 0.8721354166666667\n"
     ]
    }
   ],
   "source": [
    "from sklearn.ensemble import GradientBoostingClassifier\n",
    "\n",
    "# Initialize Gradient Boosting\n",
    "gb_clf = GradientBoostingClassifier(random_state=0)\n",
    "\n",
    "# Train the model\n",
    "gb_clf.fit(X_train, y_train_discrete)\n",
    "\n",
    "# Test Accuracy\n",
    "gb_accuracy = gb_clf.score(X_test, y_test_discrete)\n",
    "print(\"Gradient Boosting Test Accuracy:\", gb_accuracy)\n"
   ]
  },
  {
   "cell_type": "code",
   "execution_count": 43,
   "metadata": {},
   "outputs": [
    {
     "name": "stdout",
     "output_type": "stream",
     "text": [
      "KNN Test Accuracy: 0.8643229166666667\n"
     ]
    }
   ],
   "source": [
    "from sklearn.neighbors import KNeighborsClassifier\n",
    "\n",
    "# Initialize KNN\n",
    "knn_clf = KNeighborsClassifier(n_neighbors=5)\n",
    "\n",
    "# Train the model\n",
    "knn_clf.fit(X_train, y_train_discrete)\n",
    "\n",
    "# Test Accuracy\n",
    "knn_accuracy = knn_clf.score(X_test, y_test_discrete)\n",
    "print(\"KNN Test Accuracy:\", knn_accuracy)\n"
   ]
  },
  {
   "cell_type": "code",
   "execution_count": null,
   "metadata": {},
   "outputs": [],
   "source": [
    "from sklearn.model_selection import GridSearchCV\n",
    "\n",
    "# Define the parameter grid\n",
    "param_grid = {\n",
    "    'C': [0.1, 1, 10, 100],\n",
    "    'kernel': ['linear', 'rbf', 'poly'],\n",
    "    'gamma': ['scale', 'auto']\n",
    "}\n",
    "\n",
    "# Initialize GridSearch\n",
    "grid_search_svm = GridSearchCV(SVC(random_state=0), param_grid, cv=5, scoring='accuracy')\n",
    "\n",
    "# Perform GridSearch\n",
    "grid_search_svm.fit(X_train, y_train_discrete)\n",
    "\n",
    "# Best parameters and accuracy\n",
    "print(\"Best Parameters for SVM:\", grid_search_svm.best_params_)\n",
    "print(\"Best Cross-Validation Accuracy:\", grid_search_svm.best_score_)\n",
    "\n",
    "# Test the model with best parameters\n",
    "best_svm = grid_search_svm.best_estimator_\n",
    "svm_test_accuracy = best_svm.score(X_test, y_test_discrete)\n",
    "print(\"Test Accuracy with Best SVM Parameters:\", svm_test_accuracy)\n"
   ]
  },
  {
   "cell_type": "code",
   "execution_count": 3,
   "metadata": {},
   "outputs": [],
   "source": [
    "# Import necessary libraries\n",
    "import numpy as np\n",
    "import pandas as pd\n",
    "from sklearn.model_selection import train_test_split\n",
    "from sklearn.preprocessing import KBinsDiscretizer\n",
    "\n",
    "# Example dataset loading (adjust this based on your actual dataset)\n",
    "# Assuming `data` is your full dataset and `labels` are the targets\n",
    "data = np.random.rand(10000, 13)  # Replace with your actual dataset\n",
    "labels = np.random.rand(10000)    # Replace with your actual target values\n",
    "\n",
    "# Split the dataset\n",
    "X_train, X_test, y_train, y_test = train_test_split(data, labels, test_size=0.2, random_state=0)\n",
    "\n",
    "# Convert continuous targets to discrete labels\n",
    "encoder = KBinsDiscretizer(n_bins=3, encode='ordinal', strategy='uniform')\n",
    "y_train_discrete = encoder.fit_transform(y_train.reshape(-1, 1)).ravel()\n",
    "y_test_discrete = encoder.transform(y_test.reshape(-1, 1)).ravel()\n"
   ]
  },
  {
   "cell_type": "code",
   "execution_count": 4,
   "metadata": {},
   "outputs": [
    {
     "name": "stdout",
     "output_type": "stream",
     "text": [
      "Best Parameters for SVM: {'C': 10, 'gamma': 'scale', 'kernel': 'linear'}\n",
      "Best Cross-Validation Accuracy: 0.3418747450267141\n",
      "Test Accuracy with Best SVM Parameters: 0.336\n"
     ]
    }
   ],
   "source": [
    "from sklearn.svm import SVC\n",
    "from sklearn.model_selection import GridSearchCV\n",
    "\n",
    "# Define a smaller parameter grid to save time\n",
    "param_grid = {\n",
    "    'C': [0.1, 1, 10],\n",
    "    'kernel': ['linear', 'rbf'],\n",
    "    'gamma': ['scale']\n",
    "}\n",
    "\n",
    "# Initialize GridSearch with 3-fold cross-validation\n",
    "grid_search_svm = GridSearchCV(SVC(random_state=0), param_grid, cv=3, scoring='accuracy')\n",
    "\n",
    "# Perform GridSearch\n",
    "grid_search_svm.fit(X_train, y_train_discrete)\n",
    "\n",
    "# Best parameters and accuracy\n",
    "print(\"Best Parameters for SVM:\", grid_search_svm.best_params_)\n",
    "print(\"Best Cross-Validation Accuracy:\", grid_search_svm.best_score_)\n",
    "\n",
    "# Test the model with best parameters\n",
    "best_svm = grid_search_svm.best_estimator_\n",
    "svm_test_accuracy = best_svm.score(X_test, y_test_discrete)\n",
    "print(\"Test Accuracy with Best SVM Parameters:\", svm_test_accuracy)\n"
   ]
  },
  {
   "cell_type": "code",
   "execution_count": 4,
   "metadata": {},
   "outputs": [
    {
     "name": "stdout",
     "output_type": "stream",
     "text": [
      "Index(['0', '1', '2', '3', '4', '5', '6', '7', '8', '9', '10', '11', '12',\n",
      "       '13'],\n",
      "      dtype='object')\n"
     ]
    }
   ],
   "source": [
    "# Print column names of the dataset to find the correct target column\n",
    "data = pd.read_csv(file_path)\n",
    "print(data.columns)\n"
   ]
  },
  {
   "cell_type": "code",
   "execution_count": 17,
   "metadata": {},
   "outputs": [
    {
     "name": "stdout",
     "output_type": "stream",
     "text": [
      "Accuracy: 0.7019\n"
     ]
    },
    {
     "data": {
      "image/png": "[encoded data removed]",
      "text/plain": [
       "<Figure size 1000x700 with 2 Axes>"
      ]
     },
     "metadata": {},
     "output_type": "display_data"
    }
   ],
   "source": [
    "import numpy as np\n",
    "import pandas as pd\n",
    "import matplotlib.pyplot as plt\n",
    "import seaborn as sns\n",
    "from sklearn.preprocessing import StandardScaler\n",
    "from sklearn.decomposition import PCA\n",
    "from sklearn.ensemble import HistGradientBoostingClassifier\n",
    "from sklearn.model_selection import train_test_split\n",
    "from sklearn.metrics import confusion_matrix\n",
    "from sklearn.datasets import load_digits\n",
    "from scipy import sparse\n",
    "\n",
    "# Step 1: Load Dataset (using digits dataset as a placeholder)\n",
    "def load_data():\n",
    "    # Load digits dataset as an example\n",
    "    digits = load_digits()\n",
    "    X = digits.data\n",
    "    y = digits.target\n",
    "    return X, y\n",
    "\n",
    "# Step 2: Split data into training and test sets\n",
    "def split_data(X, y, test_size=0.3):\n",
    "    X_train, X_test, y_train, y_test = train_test_split(X, y, test_size=test_size, random_state=42)\n",
    "    return X_train, X_test, y_train, y_test\n",
    "\n",
    "# Step 3: Apply Standard Scaling\n",
    "def scale_data(X_train, X_test):\n",
    "    scaler = StandardScaler()\n",
    "    X_train_scaled = scaler.fit_transform(X_train)\n",
    "    X_test_scaled = scaler.transform(X_test)\n",
    "    return X_train_scaled, X_test_scaled\n",
    "\n",
    "# Step 4: Apply PCA for dimensionality reduction\n",
    "def apply_pca(X_train_scaled, X_test_scaled, n_components=3):\n",
    "    pca = PCA(n_components=n_components)\n",
    "    X_train_pca = pca.fit_transform(X_train_scaled)\n",
    "    X_test_pca = pca.transform(X_test_scaled)\n",
    "    \n",
    "    # Convert to sparse matrix and then back to dense format\n",
    "    X_train_pca = sparse.csr_matrix(X_train_pca)\n",
    "    X_test_pca = sparse.csr_matrix(X_test_pca)\n",
    "    \n",
    "    # Convert to dense format\n",
    "    X_train_pca = X_train_pca.toarray()\n",
    "    X_test_pca = X_test_pca.toarray()\n",
    "    \n",
    "    return X_train_pca, X_test_pca\n",
    "\n",
    "# Step 5: Train the model and make predictions\n",
    "def train_and_evaluate(X_train, X_test, y_train, y_test):\n",
    "    # Initialize the HistGradientBoostingClassifier\n",
    "    hg_clf = HistGradientBoostingClassifier(max_iter=20, random_state=0)\n",
    "    \n",
    "    # Train the model\n",
    "    hg_clf.fit(X_train, y_train)\n",
    "    \n",
    "    # Make predictions\n",
    "    y_pred = hg_clf.predict(X_test)\n",
    "    \n",
    "    # Evaluate accuracy\n",
    "    accuracy = hg_clf.score(X_test, y_test)\n",
    "    print(f\"Accuracy: {accuracy:.4f}\")\n",
    "    \n",
    "    return y_pred\n",
    "\n",
    "# Step 6: Plot Confusion Matrix\n",
    "def plot_confusion_matrix(y_test, y_pred):\n",
    "    conf_matrix = confusion_matrix(y_test, y_pred)\n",
    "    \n",
    "    # Plot confusion matrix using seaborn heatmap\n",
    "    plt.figure(figsize=(10, 7))\n",
    "    sns.heatmap(conf_matrix, annot=True, fmt=\"d\", cmap=\"Blues\")\n",
    "    plt.xlabel(\"Predicted\")\n",
    "    plt.ylabel(\"Actual\")\n",
    "    plt.title(\"Confusion Matrix\")\n",
    "    plt.show()\n",
    "\n",
    "# Step 7: Main function to orchestrate the process\n",
    "def main():\n",
    "    # Load data\n",
    "    X, y = load_data()\n",
    "    \n",
    "    # Split data into training and testing sets\n",
    "    X_train, X_test, y_train, y_test = split_data(X, y)\n",
    "    \n",
    "    # Scale the data\n",
    "    X_train_scaled, X_test_scaled = scale_data(X_train, X_test)\n",
    "    \n",
    "    # Apply PCA for dimensionality reduction\n",
    "    X_train_pca, X_test_pca = apply_pca(X_train_scaled, X_test_scaled, n_components=3)\n",
    "    \n",
    "    # Train and evaluate the model\n",
    "    y_pred = train_and_evaluate(X_train_pca, X_test_pca, y_train, y_test)\n",
    "    \n",
    "    # Plot confusion matrix\n",
    "    plot_confusion_matrix(y_test, y_pred)\n",
    "\n",
    "# Run the main function\n",
    "if __name__ == \"__main__\":\n",
    "    main()\n",
    "\n"
   ]
  },
  {
   "cell_type": "code",
   "execution_count": 18,
   "metadata": {},
   "outputs": [
    {
     "data": {
      "image/png": "[encoded data removed]",
      "text/plain": [
       "<Figure size 1000x700 with 2 Axes>"
      ]
     },
     "metadata": {},
     "output_type": "display_data"
    },
    {
     "name": "stdout",
     "output_type": "stream",
     "text": [
      "Classification Report:\n",
      "               precision    recall  f1-score   support\n",
      "\n",
      "           0       0.92      0.85      0.88        53\n",
      "           1       0.87      0.78      0.82        50\n",
      "           2       0.87      0.85      0.86        47\n",
      "           3       0.61      0.57      0.59        54\n",
      "           4       0.95      0.93      0.94        60\n",
      "           5       0.36      0.23      0.28        66\n",
      "           6       1.00      0.91      0.95        53\n",
      "           7       0.70      0.80      0.75        55\n",
      "           8       0.43      0.67      0.53        43\n",
      "           9       0.51      0.61      0.56        59\n",
      "\n",
      "    accuracy                           0.71       540\n",
      "   macro avg       0.72      0.72      0.72       540\n",
      "weighted avg       0.72      0.71      0.71       540\n",
      "\n",
      "Precision: 0.72\n",
      "Recall: 0.71\n",
      "F1-Score: 0.71\n"
     ]
    }
   ],
   "source": [
    "import numpy as np\n",
    "import matplotlib.pyplot as plt\n",
    "import seaborn as sns\n",
    "from sklearn.model_selection import train_test_split\n",
    "from sklearn.preprocessing import StandardScaler\n",
    "from sklearn.decomposition import PCA\n",
    "from sklearn.ensemble import GradientBoostingClassifier\n",
    "from sklearn.metrics import confusion_matrix, classification_report, precision_score, recall_score, f1_score\n",
    "\n",
    "# Step 1: Load your dataset (replace this with your dataset loading code)\n",
    "# For illustration, we're using a dataset from sklearn (e.g., digits dataset)\n",
    "from sklearn.datasets import load_digits\n",
    "data = load_digits()\n",
    "X = data.data\n",
    "y = data.target\n",
    "\n",
    "# Step 2: Split the data into training and testing sets\n",
    "X_train, X_test, y_train, y_test = train_test_split(X, y, test_size=0.3, random_state=42)\n",
    "\n",
    "# Step 3: Standardize the data\n",
    "scaler = StandardScaler()\n",
    "X_train_scaled = scaler.fit_transform(X_train)\n",
    "X_test_scaled = scaler.transform(X_test)\n",
    "\n",
    "# Step 4: Apply PCA for dimensionality reduction\n",
    "def apply_pca(X_train, X_test, n_components=3):\n",
    "    pca = PCA(n_components=n_components)\n",
    "    X_train_pca = pca.fit_transform(X_train)\n",
    "    X_test_pca = pca.transform(X_test)\n",
    "    return X_train_pca, X_test_pca\n",
    "\n",
    "X_train_pca, X_test_pca = apply_pca(X_train_scaled, X_test_scaled, n_components=3)\n",
    "\n",
    "# Step 5: Train the Gradient Boosting model\n",
    "def train_and_evaluate(X_train, X_test, y_train, y_test):\n",
    "    gb_clf = GradientBoostingClassifier(n_estimators=100, learning_rate=0.1, random_state=42)\n",
    "    gb_clf.fit(X_train, y_train)\n",
    "    y_pred = gb_clf.predict(X_test)\n",
    "    return y_pred, gb_clf\n",
    "\n",
    "# Train and get predictions\n",
    "y_pred, model = train_and_evaluate(X_train_pca, X_test_pca, y_train, y_test)\n",
    "\n",
    "# Step 6: Confusion Matrix Plot\n",
    "def plot_confusion_matrix(y_test, y_pred):\n",
    "    conf_matrix = confusion_matrix(y_test, y_pred)\n",
    "    plt.figure(figsize=(10, 7))\n",
    "    sns.heatmap(conf_matrix, annot=True, fmt=\"d\", cmap=\"Blues\")\n",
    "    plt.xlabel(\"Predicted\")\n",
    "    plt.ylabel(\"Actual\")\n",
    "    plt.title(\"Confusion Matrix\")\n",
    "    plt.show()\n",
    "\n",
    "plot_confusion_matrix(y_test, y_pred)\n",
    "\n",
    "# Step 7: Additional Metrics - Precision, Recall, and F1-Score\n",
    "report = classification_report(y_test, y_pred)\n",
    "print(\"Classification Report:\\n\", report)\n",
    "\n",
    "# Alternatively, manually extract and print Precision, Recall, and F1-Score\n",
    "precision = precision_score(y_test, y_pred, average='weighted')  # Weighted average for multi-class\n",
    "recall = recall_score(y_test, y_pred, average='weighted')\n",
    "f1 = f1_score(y_test, y_pred, average='weighted')\n",
    "\n",
    "print(f\"Precision: {precision:.2f}\")\n",
    "print(f\"Recall: {recall:.2f}\")\n",
    "print(f\"F1-Score: {f1:.2f}\")\n"
   ]
  },
  {
   "cell_type": "code",
   "execution_count": 19,
   "metadata": {},
   "outputs": [
    {
     "data": {
      "image/png": "[encoded data removed]",
      "text/plain": [
       "<Figure size 1000x700 with 2 Axes>"
      ]
     },
     "metadata": {},
     "output_type": "display_data"
    },
    {
     "name": "stdout",
     "output_type": "stream",
     "text": [
      "Classification Report:\n",
      "{'0': {'precision': 0.9183673469387755, 'recall': 0.8490566037735849, 'f1-score': 0.8823529411764706, 'support': 53.0}, '1': {'precision': 0.8666666666666667, 'recall': 0.78, 'f1-score': 0.8210526315789474, 'support': 50.0}, '2': {'precision': 0.8695652173913043, 'recall': 0.851063829787234, 'f1-score': 0.8602150537634409, 'support': 47.0}, '3': {'precision': 0.6078431372549019, 'recall': 0.5740740740740741, 'f1-score': 0.5904761904761905, 'support': 54.0}, '4': {'precision': 0.9491525423728814, 'recall': 0.9333333333333333, 'f1-score': 0.9411764705882353, 'support': 60.0}, '5': {'precision': 0.35714285714285715, 'recall': 0.22727272727272727, 'f1-score': 0.2777777777777778, 'support': 66.0}, '6': {'precision': 1.0, 'recall': 0.9056603773584906, 'f1-score': 0.9504950495049505, 'support': 53.0}, '7': {'precision': 0.6984126984126984, 'recall': 0.8, 'f1-score': 0.7457627118644068, 'support': 55.0}, '8': {'precision': 0.43283582089552236, 'recall': 0.6744186046511628, 'f1-score': 0.5272727272727272, 'support': 43.0}, '9': {'precision': 0.5142857142857142, 'recall': 0.6101694915254238, 'f1-score': 0.5581395348837209, 'support': 59.0}, 'accuracy': 0.7092592592592593, 'macro avg': {'precision': 0.7214272001361322, 'recall': 0.7205049041776032, 'f1-score': 0.7154721088886868, 'support': 540.0}, 'weighted avg': {'precision': 0.7159036561446461, 'recall': 0.7092592592592593, 'f1-score': 0.7072837545364729, 'support': 540.0}}\n"
     ]
    },
    {
     "data": {
      "image/png": "[encoded data removed]",
      "text/plain": [
       "<Figure size 1000x600 with 1 Axes>"
      ]
     },
     "metadata": {},
     "output_type": "display_data"
    },
    {
     "data": {
      "image/png": "[encoded data removed]",
      "text/plain": [
       "<Figure size 1000x700 with 1 Axes>"
      ]
     },
     "metadata": {},
     "output_type": "display_data"
    }
   ],
   "source": [
    "import matplotlib.pyplot as plt\n",
    "import seaborn as sns\n",
    "from sklearn.metrics import confusion_matrix, classification_report, precision_score, recall_score, f1_score\n",
    "from sklearn.metrics import roc_curve, auc\n",
    "import numpy as np\n",
    "\n",
    "# Assuming y_test and y_pred are already defined\n",
    "\n",
    "# Step 1: Confusion Matrix\n",
    "conf_matrix = confusion_matrix(y_test, y_pred)\n",
    "plt.figure(figsize=(10, 7))\n",
    "sns.heatmap(conf_matrix, annot=True, fmt=\"d\", cmap=\"Blues\")\n",
    "plt.xlabel(\"Predicted\")\n",
    "plt.ylabel(\"Actual\")\n",
    "plt.title(\"Confusion Matrix\")\n",
    "plt.show()\n",
    "\n",
    "# Step 2: Classification Report\n",
    "report = classification_report(y_test, y_pred, output_dict=True)\n",
    "print(\"Classification Report:\")\n",
    "print(report)\n",
    "\n",
    "# Step 3: Precision, Recall, F1-Score for each class\n",
    "precision = precision_score(y_test, y_pred, average=None)\n",
    "recall = recall_score(y_test, y_pred, average=None)\n",
    "f1 = f1_score(y_test, y_pred, average=None)\n",
    "\n",
    "# Plotting Precision, Recall, and F1-Score for each class\n",
    "labels = np.unique(y_test)\n",
    "x = np.arange(len(labels))\n",
    "\n",
    "fig, ax = plt.subplots(figsize=(10, 6))\n",
    "width = 0.25\n",
    "rects1 = ax.bar(x - width, precision, width, label=\"Precision\")\n",
    "rects2 = ax.bar(x, recall, width, label=\"Recall\")\n",
    "rects3 = ax.bar(x + width, f1, width, label=\"F1-Score\")\n",
    "\n",
    "ax.set_xlabel(\"Class\")\n",
    "ax.set_ylabel(\"Scores\")\n",
    "ax.set_title(\"Precision, Recall, and F1-Score by Class\")\n",
    "ax.set_xticks(x)\n",
    "ax.set_xticklabels(labels)\n",
    "ax.legend()\n",
    "\n",
    "plt.tight_layout()\n",
    "plt.show()\n",
    "\n",
    "# Step 4: ROC Curve (for each class, if multiclass)\n",
    "fpr = dict()\n",
    "tpr = dict()\n",
    "roc_auc = dict()\n",
    "n_classes = len(np.unique(y_test))\n",
    "\n",
    "# One-vs-rest ROC\n",
    "for i in range(n_classes):\n",
    "    fpr[i], tpr[i], _ = roc_curve(y_test == i, y_pred == i)\n",
    "    roc_auc[i] = auc(fpr[i], tpr[i])\n",
    "\n",
    "# Plot ROC curve\n",
    "plt.figure(figsize=(10, 7))\n",
    "colors = ['blue', 'red', 'green', 'yellow', 'purple', 'orange', 'cyan', 'brown', 'pink', 'gray']\n",
    "\n",
    "for i, color in zip(range(n_classes), colors):\n",
    "    plt.plot(fpr[i], tpr[i], color=color, lw=2, label=f'Class {i} (AUC = {roc_auc[i]:.2f})')\n",
    "\n",
    "plt.plot([0, 1], [0, 1], color='navy', lw=2, linestyle='--')\n",
    "plt.xlabel('False Positive Rate')\n",
    "plt.ylabel('True Positive Rate')\n",
    "plt.title('Receiver Operating Characteristic (ROC) Curve')\n",
    "plt.legend(loc='lower right')\n",
    "plt.show()\n"
   ]
  },
  {
   "cell_type": "code",
   "execution_count": 20,
   "metadata": {},
   "outputs": [
    {
     "name": "stdout",
     "output_type": "stream",
     "text": [
      "Fitting 3 folds for each of 54 candidates, totalling 162 fits\n",
      "Best Parameters: {'learning_rate': 0.1, 'max_depth': 3, 'n_estimators': 200, 'subsample': 0.8}\n",
      "              precision    recall  f1-score   support\n",
      "\n",
      "           0       1.00      0.98      0.99        53\n",
      "           1       1.00      1.00      1.00        50\n",
      "           2       1.00      0.98      0.99        47\n",
      "           3       1.00      0.96      0.98        54\n",
      "           4       0.98      1.00      0.99        60\n",
      "           5       0.98      0.97      0.98        66\n",
      "           6       0.98      0.98      0.98        53\n",
      "           7       0.96      0.98      0.97        55\n",
      "           8       0.91      1.00      0.96        43\n",
      "           9       0.97      0.95      0.96        59\n",
      "\n",
      "    accuracy                           0.98       540\n",
      "   macro avg       0.98      0.98      0.98       540\n",
      "weighted avg       0.98      0.98      0.98       540\n",
      "\n"
     ]
    }
   ],
   "source": [
    "from sklearn.model_selection import GridSearchCV\n",
    "from sklearn.ensemble import GradientBoostingClassifier\n",
    "\n",
    "# Define the model\n",
    "gb_clf = GradientBoostingClassifier(random_state=0)\n",
    "\n",
    "# Define the hyperparameters to tune\n",
    "param_grid = {\n",
    "    'n_estimators': [50, 100, 200],\n",
    "    'learning_rate': [0.01, 0.1, 0.2],\n",
    "    'max_depth': [3, 5, 7],\n",
    "    'subsample': [0.8, 1.0],\n",
    "}\n",
    "\n",
    "# Grid search with cross-validation\n",
    "grid_search = GridSearchCV(estimator=gb_clf, param_grid=param_grid, cv=3, verbose=1, n_jobs=-1)\n",
    "grid_search.fit(X_train, y_train)\n",
    "\n",
    "# Get the best hyperparameters\n",
    "print(\"Best Parameters:\", grid_search.best_params_)\n",
    "\n",
    "# Use the best model to predict\n",
    "best_gb_clf = grid_search.best_estimator_\n",
    "y_pred = best_gb_clf.predict(X_test)\n",
    "\n",
    "# Evaluate the model\n",
    "from sklearn.metrics import classification_report\n",
    "print(classification_report(y_test, y_pred))\n"
   ]
  },
  {
   "cell_type": "code",
   "execution_count": 21,
   "metadata": {},
   "outputs": [
    {
     "name": "stdout",
     "output_type": "stream",
     "text": [
      "Cross-validation scores: [0.94444444 0.91269841 0.97609562 0.94422311 0.96414343]\n",
      "Mean Cross-validation accuracy: 0.9483\n"
     ]
    }
   ],
   "source": [
    "from sklearn.model_selection import cross_val_score\n",
    "\n",
    "# Cross-validation on the GradientBoostingClassifier\n",
    "cv_scores = cross_val_score(gb_clf, X_train, y_train, cv=5, scoring='accuracy')\n",
    "\n",
    "print(f\"Cross-validation scores: {cv_scores}\")\n",
    "print(f\"Mean Cross-validation accuracy: {cv_scores.mean():.4f}\")\n"
   ]
  },
  {
   "cell_type": "code",
   "execution_count": 23,
   "metadata": {},
   "outputs": [
    {
     "name": "stdout",
     "output_type": "stream",
     "text": [
      "              precision    recall  f1-score   support\n",
      "\n",
      "           0       1.00      0.98      0.99        53\n",
      "           1       0.94      0.98      0.96        50\n",
      "           2       1.00      0.98      0.99        47\n",
      "           3       1.00      0.96      0.98        54\n",
      "           4       0.95      1.00      0.98        60\n",
      "           5       0.94      0.94      0.94        66\n",
      "           6       0.98      0.98      0.98        53\n",
      "           7       1.00      0.98      0.99        55\n",
      "           8       0.95      0.95      0.95        43\n",
      "           9       0.95      0.95      0.95        59\n",
      "\n",
      "    accuracy                           0.97       540\n",
      "   macro avg       0.97      0.97      0.97       540\n",
      "weighted avg       0.97      0.97      0.97       540\n",
      "\n"
     ]
    }
   ],
   "source": [
    "from sklearn.ensemble import RandomForestClassifier\n",
    "\n",
    "rf_clf = RandomForestClassifier(random_state=0)\n",
    "rf_clf.fit(X_train, y_train)\n",
    "y_pred_rf = rf_clf.predict(X_test)\n",
    "\n",
    "print(classification_report(y_test, y_pred_rf))\n"
   ]
  },
  {
   "cell_type": "code",
   "execution_count": 29,
   "metadata": {},
   "outputs": [
    {
     "data": {
      "image/png": "[encoded data removed]",
      "text/plain": [
       "<Figure size 640x480 with 1 Axes>"
      ]
     },
     "metadata": {},
     "output_type": "display_data"
    }
   ],
   "source": [
    "from sklearn.metrics import roc_curve, auc\n",
    "from sklearn.preprocessing import label_binarize\n",
    "import matplotlib.pyplot as plt\n",
    "\n",
    "# Binarize the output labels (for multiclass ROC)\n",
    "y_test_bin = label_binarize(y_test, classes=[0, 1, 2, 3, 4, 5, 6, 7, 8, 9])\n",
    "\n",
    "# Function to plot ROC curve for each class\n",
    "def plot_roc_curve(fpr, tpr, model_name, class_id):\n",
    "    plt.plot(fpr, tpr, label=f'{model_name} (Class {class_id} - AUC = {auc(fpr, tpr):.2f})')\n",
    "\n",
    "# Get ROC curve for Random Forest Classifier (One-vs-Rest approach)\n",
    "n_classes = y_test_bin.shape[1]\n",
    "for i in range(n_classes):\n",
    "    fpr_rf, tpr_rf, _ = roc_curve(y_test_bin[:, i], rf_clf.predict_proba(X_test)[:, i])\n",
    "    plot_roc_curve(fpr_rf, tpr_rf, 'Random Forest', i)\n",
    "\n",
    "# Add a diagonal line (random classifier)\n",
    "plt.plot([0, 1], [0, 1], color='navy', lw=2, linestyle='--')\n",
    "plt.xlabel('False Positive Rate')\n",
    "plt.ylabel('True Positive Rate')\n",
    "plt.title('Receiver Operating Characteristic (ROC) Curve')\n",
    "plt.legend(loc='lower right')\n",
    "plt.show()\n"
   ]
  }
 ],
 "metadata": {
  "kernelspec": {
   "display_name": "Python 3",
   "language": "python",
   "name": "python3"
  },
  "language_info": {
   "codemirror_mode": {
    "name": "ipython",
    "version": 3
   },
   "file_extension": ".py",
   "mimetype": "text/x-python",
   "name": "python",
   "nbconvert_exporter": "python",
   "pygments_lexer": "ipython3",
   "version": "3.13.1"
  }
 },
 "nbformat": 4,
 "nbformat_minor": 2
}
